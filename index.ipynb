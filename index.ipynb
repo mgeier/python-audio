{
 "cells": [
  {
   "cell_type": "markdown",
   "metadata": {},
   "source": [
    "# Working With Audio in Python\n",
    "\n",
    "As a quick (and hopefully painless) introduction to the whole topic, have a look at:\n",
    "\n",
    "* [Generating Simple Audio Signals](simple-signals.ipynb)\n",
    "\n",
    "If you want to know about the basics of Python and nothing else (no numeric Python, no plotting, no signal processing, just the very basics), that's for you:\n",
    "\n",
    "* [Introduction to Python](intro-python.ipynb)\n",
    "\n",
    "More topics:\n",
    "\n",
    "* [Plotting with Python](plotting/index.ipynb)\n",
    "\n",
    "* [Reading and Writing Audio Files](audio-files/index.ipynb)\n",
    "\n",
    "* [List Comprehensions, Generators, Generator Expressions](misc/comprehensions-and-generators.ipynb)\n",
    "\n",
    "*Warning*: The following topics are very much work in progress!\n",
    "\n",
    "* [Introduction to Jupyter/IPython notebooks](intro-jupyter.ipynb)\n",
    "\n",
    "* [Introduction to NumPy](intro-numpy.ipynb)\n",
    "\n",
    "* [Testing Python Code](testing/index.ipynb)\n",
    "\n",
    "* [Signal Processing](signal-processing/index.ipynb)\n",
    "\n",
    "TODO: more topics ..."
   ]
  },
  {
   "cell_type": "markdown",
   "metadata": {},
   "source": [
    "## External Links\n",
    "\n",
    "There are quite a few blog posts and other resources available, here are a few\n",
    "links, use your favorite search engine to find more."
   ]
  },
  {
   "cell_type": "markdown",
   "metadata": {},
   "source": [
    "### Other Scientific Topics and Scientific Python in General\n",
    "\n",
    "http://scipy-lectures.github.io/\n",
    "\n",
    "https://github.com/jrjohansson/scientific-python-lectures\n",
    "\n",
    "http://pig-in-the-python.blogspot.de/\n",
    "\n",
    "http://www.southampton.ac.uk/~feeg1001/index.html\n",
    "\n",
    "Computational Methods for Psychology and Neuroscience: http://memory.osu.edu/classes/python/index.html\n",
    "\n",
    "https://github.com/IanHawke/maths-with-python\n",
    "\n",
    "http://www.southampton.ac.uk/~fangohr/training/python/index.html\n",
    "\n",
    "PHY 546: Python for Scientific Computing: http://bender.astro.sunysb.edu/classes/python-science/\n",
    "\n",
    "https://www.dataquest.io/blog/numpy-tutorial-python/\n",
    "\n",
    "http://blancosilva.github.io/post/2014/10/28/Computational-Geometry-in-Python.html\n",
    "\n",
    "http://matthew-brett.github.io/teaching/\n",
    "\n",
    "http://jakevdp.github.io/blog/2017/03/03/reproducible-data-analysis-in-jupyter/\n",
    "\n",
    "Python Data Science Handbook: full text in Jupyter Notebooks  \n",
    "https://github.com/jakevdp/PythonDataScienceHandbook\n",
    "\n",
    "Machine Learning for Artists:\n",
    "https://ml4a.github.io/index/,\n",
    "https://github.com/ml4a/ml4a-guides\n",
    "\n",
    "Notes on Artificial Intelligence: https://frnsys.com/ai_notes/\n",
    "\n",
    "IPython Cookbook, Second Edition (2018): http://ipython-books.github.io/\n",
    "\n",
    "Learning Python for Social Scientists: https://nealcaren.github.io/python-tutorials/\n",
    "\n",
    "https://calculus-notes.readthedocs.io/\n",
    "\n",
    "Ten Simple Rules for Reproducible Research in Jupyter Notebooks:  \n",
    "https://arxiv.org/abs/1810.08055  \n",
    "https://github.com/jupyter-guide/ten-rules-jupyter\n",
    "\n",
    "Guide for Reproducible Research and Data Science in Jupyter Notebooks:  \n",
    "https://github.com/jupyter-guide/jupyter-guide"
   ]
  },
  {
   "cell_type": "markdown",
   "metadata": {},
   "source": [
    "### Python in General\n",
    "\n",
    "http://cscircles.cemc.uwaterloo.ca/\n",
    "\n",
    "http://docs.python.org/3/tutorial/\n",
    "\n",
    "http://docs.python-guide.org/\n",
    "\n",
    "http://learnpythonthehardway.org/book/\n",
    "\n",
    "http://getpython3.com/diveintopython3/index.html\n",
    "\n",
    "http://python.net/~goodger/projects/pycon/2007/idiomatic/handout.html\n",
    "\n",
    "http://lignos.org/py_antipatterns/\n",
    "\n",
    "http://www.digilentinc.com/Classroom/IntroProgramming1/\n",
    "\n",
    "https://github.com/JonasSC/PythonistManifesto\n",
    "\n",
    "https://github.com/rasbt/python_reference\n",
    "\n",
    "http://www.greenteapress.com/thinkpython/\n",
    "\n",
    "Programming with Python (MATH20622): http://www.maths.manchester.ac.uk/~vsego/teaching.php\n",
    "\n",
    "https://github.com/justmarkham/python-reference\n",
    "\n",
    "pytudes: Python programs for perfecting programming skills  \n",
    "https://github.com/norvig/pytudes\n",
    "\n",
    "https://rsokl.github.io/Learning_Python/"
   ]
  },
  {
   "cell_type": "markdown",
   "metadata": {},
   "source": [
    "### Python Trivia\n",
    "\n",
    "http://www.b-list.org/weblog/2015/oct/13/wats-doc/"
   ]
  },
  {
   "cell_type": "markdown",
   "metadata": {},
   "source": [
    "### Collaboration with Other Software\n",
    "\n",
    "https://github.com/arokem/python-matlab-bridge\n",
    "\n",
    "https://github.com/ewiger/mlab\n",
    "\n",
    "https://github.com/bastibe/transplant"
   ]
  },
  {
   "cell_type": "markdown",
   "metadata": {},
   "source": [
    "### Comparison with Other Software\n",
    "\n",
    "http://wiki.scipy.org/NumPy_for_Matlab_Users\n",
    "\n",
    "http://bastibe.de/2013-01-20-a-python-primer-for-matlab-users.html"
   ]
  },
  {
   "cell_type": "markdown",
   "metadata": {},
   "source": [
    "### Non-Python Stuff\n",
    "\n",
    "https://github.com/IoSR-Surrey/MatlabToolbox"
   ]
  },
  {
   "cell_type": "markdown",
   "metadata": {},
   "source": [
    "<p xmlns:dct=\"http://purl.org/dc/terms/\">\n",
    "  <a rel=\"license\"\n",
    "     href=\"http://creativecommons.org/publicdomain/zero/1.0/\">\n",
    "    <img src=\"http://i.creativecommons.org/p/zero/1.0/88x31.png\" style=\"border-style: none;\" alt=\"CC0\" />\n",
    "  </a>\n",
    "  <br />\n",
    "  To the extent possible under law,\n",
    "  <span rel=\"dct:publisher\" resource=\"[_:publisher]\">the person who associated CC0</span>\n",
    "  with this work has waived all copyright and related or neighboring\n",
    "  rights to this work.\n",
    "</p>"
   ]
  }
 ],
 "metadata": {
  "kernelspec": {
   "display_name": "Python 3 (ipykernel)",
   "language": "python",
   "name": "python3"
  },
  "language_info": {
   "codemirror_mode": {
    "name": "ipython",
    "version": 3
   },
   "file_extension": ".py",
   "mimetype": "text/x-python",
   "name": "python",
   "nbconvert_exporter": "python",
   "pygments_lexer": "ipython3",
   "version": "3.12.5"
  }
 },
 "nbformat": 4,
 "nbformat_minor": 4
}
