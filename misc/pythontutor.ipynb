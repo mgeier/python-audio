{
 "cells": [
  {
   "cell_type": "markdown",
   "metadata": {},
   "source": [
    "# Visualizing Code Execution with the *Online Python Tutor*\n",
    "\n",
    "This page contains a few example that show what happens if a Python program is executed step by step.\n",
    "The actual visualizations are created by http://pythontutor.com/."
   ]
  },
  {
   "cell_type": "markdown",
   "metadata": {},
   "source": [
    "## Embedding into a IPython/Jupyter Notebook"
   ]
  },
  {
   "cell_type": "code",
   "execution_count": 1,
   "metadata": {},
   "outputs": [],
   "source": [
    "import IPython\n",
    "import urllib\n",
    "\n",
    "@IPython.core.magic.register_cell_magic\n",
    "def pythontutor(line, cell):\n",
    "    \"\"\"Display cell content as iframe from pythontutor.com.\n",
    "    \n",
    "    You have to pass the height (in pixels) in the first line, e.g.::\n",
    "    \n",
    "        %%pythontutor 400\n",
    "        x = 'Hello, world!'\n",
    "        print(x)\n",
    "    \n",
    "    \"\"\"\n",
    "    url = 'https://pythontutor.com/iframe-embed.html#'\n",
    "    url += urllib.parse.urlencode({\n",
    "        'py': '3',\n",
    "        'heapPrimitives': 'true',\n",
    "        'code': cell,\n",
    "        #'origin': 'opt-frontend.js',\n",
    "        #'cumulative': 'false',\n",
    "        #'textReferences': 'false',\n",
    "        #'rawInputLstJSON': [],\n",
    "        #'curInstr': '0',\n",
    "        #'codeDivWidth': '50%',\n",
    "        #'codeDivHeight': '100%',\n",
    "        #'resizeContainer': 'true',\n",
    "    })\n",
    "    IPython.display.display(IPython.display.IFrame(url, width='100%', height=line))"
   ]
  },
  {
   "cell_type": "markdown",
   "metadata": {},
   "source": [
    "The above code is a mixture of http://jupyter.cs.brynmawr.edu/hub/dblank/public/Examples/Online%20Python%20Tutor.ipynb and https://github.com/kikocorreoso/tutormagic/."
   ]
  },
  {
   "cell_type": "markdown",
   "metadata": {},
   "source": [
    "## \"Variables\" are References\n",
    "\n",
    "As explained in the [Python Intro](../intro-python.ipynb), you shouldn't think of variables as *boxes* where you can put stuff of a certain type into.\n",
    "You should rather think of them as *labels* which you can stick onto arbitrary objects (regardless of the type of object)."
   ]
  },
  {
   "cell_type": "code",
   "execution_count": 2,
   "metadata": {},
   "outputs": [
    {
     "data": {
      "text/html": [
       "\n",
       "        <iframe\n",
       "            width=\"100%\"\n",
       "            height=\"270\"\n",
       "            src=\"https://pythontutor.com/iframe-embed.html#py=3&heapPrimitives=true&code=answer+%3D+7+%2A+6%0Aanswer+%3D+%27fourty-two%27%0A\"\n",
       "            frameborder=\"0\"\n",
       "            allowfullscreen\n",
       "        ></iframe>\n",
       "        "
      ],
      "text/plain": [
       "<IPython.lib.display.IFrame at 0x7f336410bd50>"
      ]
     },
     "metadata": {},
     "output_type": "display_data"
    }
   ],
   "source": [
    "%%pythontutor 270\n",
    "answer = 7 * 6\n",
    "answer = 'fourty-two'"
   ]
  },
  {
   "cell_type": "markdown",
   "metadata": {},
   "source": [
    "Click on the \"Forward >\" button to step through the lines of the program above and look on the right hand side what happens after each line is executed.\n",
    "\n",
    "1. The first line contains an [assignment](../intro-python.ipynb#Assignment).\n",
    "This means the thing to the right of the equals sign is assigned to the thing to the left.\n",
    "The Python interpreter first evaluates the expression on the right hand side, which results in an integer object with the value 42.\n",
    "The memory needed to store the value 42 is handled by the Python interpreter, we don't have to worry about that.\n",
    "As you can see in the visualization above, the object with the value 42 has the type `int` (as well as 7 and 6), which was automatically deduced by the interpreter.\n",
    "Now the resulting object is assigned to an *identifier* named `answer`.\n",
    "Since such a name didn't exist before, a new *identifier* is created.\n",
    "The visualization shows nicely that the variable `answer` isn't a \"box\" that \"contains\" the value 42, it's rather a \"label\" (or \"reference\") that points to an object somewhere in memory.\n",
    "\n",
    "1. The second line contains another assignment.\n",
    "Again, first the right hand side is evaluated, which results in a string object with the value `'fourty-two'`.\n",
    "Again, the memory where this string is stored is managed by the interpreter automatically.\n",
    "Since this time the identifier named `answer` already exists, it is *re-bound* to the newly created string object.\n",
    "To find out what happens to the object with the value 42, have a look at [garbage collection](../intro-python.ipynb#Garbage-Collection).\n",
    "\n",
    "Note that the variable `answer` doesn't have a type on its own, it just references an object which in turn has a type.\n",
    "We can *re-bind* variables to any objects, they don't have to have the same type at all!"
   ]
  },
  {
   "cell_type": "markdown",
   "metadata": {},
   "source": [
    "## Multiple References to the Same Object"
   ]
  },
  {
   "cell_type": "code",
   "execution_count": 3,
   "metadata": {},
   "outputs": [
    {
     "data": {
      "text/html": [
       "\n",
       "        <iframe\n",
       "            width=\"100%\"\n",
       "            height=\"310\"\n",
       "            src=\"https://pythontutor.com/iframe-embed.html#py=3&heapPrimitives=true&code=a+%3D+%27text%27%0Ab+%3D+a%0Ac+%3D+d+%3D+e+%3D+%27more+text%27%0Aa+%3D+e%0A\"\n",
       "            frameborder=\"0\"\n",
       "            allowfullscreen\n",
       "        ></iframe>\n",
       "        "
      ],
      "text/plain": [
       "<IPython.lib.display.IFrame at 0x7f3368780ed0>"
      ]
     },
     "metadata": {},
     "output_type": "display_data"
    }
   ],
   "source": [
    "%%pythontutor 310\n",
    "a = 'text'\n",
    "b = a\n",
    "c = d = e = 'more text'\n",
    "a = e"
   ]
  },
  {
   "cell_type": "markdown",
   "metadata": {},
   "source": [
    "1. A string object is created and assigned to `a`, i.e. `a` is now a *reference* to the string `'text'`.\n",
    "\n",
    "1. The right hand side is evaluated, resulting in the string object referenced by `a`.\n",
    "This string object is assigned to the new identifier `b`.\n",
    "Now both `a` and `b` point to the same object (no copy is created).\n",
    "\n",
    "1. A new string object is created and assigned to multiple identifiers at once.\n",
    "All point to the same object (no copies are created).\n",
    "\n",
    "1. The object referenced by `e` is assigned to `a`.\n",
    "Note that this doesn't change `b` (since `b` didn't point to `a` but directly to the string object).\n",
    "\n",
    "Note: An identifier can point to any kind of object, but it can *never* point to another identifier!\n",
    "\n",
    "You may have heard the statement \"Everything in Python is an object\", but this is actually not true.\n",
    "Identifiers are *not* objects (but they \"point to\" objects)."
   ]
  },
  {
   "cell_type": "markdown",
   "metadata": {},
   "source": [
    "## Small Numbers are Special"
   ]
  },
  {
   "cell_type": "code",
   "execution_count": 4,
   "metadata": {},
   "outputs": [
    {
     "data": {
      "text/html": [
       "\n",
       "        <iframe\n",
       "            width=\"100%\"\n",
       "            height=\"350\"\n",
       "            src=\"https://pythontutor.com/iframe-embed.html#py=3&heapPrimitives=true&code=a+%3D+7+%2A+6%0Ab+%3D+2+%2B+4+%2A+10%0Ac+%3D+42%0A%0Ax+%3D+100%2A%2A2%0Ay+%3D+5000+%2B+5000%0A\"\n",
       "            frameborder=\"0\"\n",
       "            allowfullscreen\n",
       "        ></iframe>\n",
       "        "
      ],
      "text/plain": [
       "<IPython.lib.display.IFrame at 0x7f336406e190>"
      ]
     },
     "metadata": {},
     "output_type": "display_data"
    }
   ],
   "source": [
    "%%pythontutor 350\n",
    "a = 7 * 6\n",
    "b = 2 + 4 * 10\n",
    "c = 42\n",
    "\n",
    "x = 100**2\n",
    "y = 5000 + 5000"
   ]
  },
  {
   "cell_type": "markdown",
   "metadata": {},
   "source": [
    "\n",
    "TODO: implementation detail of CPython ...\n",
    "\n",
    "TODO: it doesn't matter since numbers are immutable ..."
   ]
  }
 ],
 "metadata": {
  "kernelspec": {
   "display_name": "Python 3",
   "language": "python",
   "name": "python3"
  },
  "language_info": {
   "codemirror_mode": {
    "name": "ipython",
    "version": 3
   },
   "file_extension": ".py",
   "mimetype": "text/x-python",
   "name": "python",
   "nbconvert_exporter": "python",
   "pygments_lexer": "ipython3",
   "version": "3.7.4"
  }
 },
 "nbformat": 4,
 "nbformat_minor": 4
}
