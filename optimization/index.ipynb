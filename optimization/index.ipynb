{
 "cells": [
  {
   "cell_type": "markdown",
   "metadata": {},
   "source": [
    "# Optimizing Python Code\n",
    "\n",
    "[back to main page](../index.ipynb)\n",
    "\n",
    "This is work-in-progress!\n",
    "\n",
    "First, check for bottlenecks, then optimize!\n",
    "\n",
    "[cProfile and pstats](https://docs.python.org/3.4/library/profile.html)\n",
    "\n",
    "    python -m cProfile -o output.prof myscript.py\n",
    "\n",
    "[SnakeViz](https://jiffyclub.github.io/snakeviz/)\n",
    "\n",
    "[RunSnakeRun](http://www.vrplumber.com/programming/runsnakerun/)\n",
    "\n",
    "[PLOP](https://github.com/bdarnell/plop)\n",
    "\n",
    "https://shedskin.github.io/\n",
    "\n",
    "https://github.com/rkern/line_profiler\n",
    "\n",
    "http://vmprof.readthedocs.org/\n",
    "\n",
    "https://github.com/csurfer/pyheat  \n",
    "https://github.com/csurfer/pyheatmagic\n",
    "\n",
    "https://github.com/joerick/pyinstrument"
   ]
  },
  {
   "cell_type": "code",
   "execution_count": null,
   "metadata": {},
   "outputs": [],
   "source": [
    "%load_ext line_profiler"
   ]
  },
  {
   "cell_type": "code",
   "execution_count": null,
   "metadata": {},
   "outputs": [],
   "source": [
    "%lprun?"
   ]
  },
  {
   "cell_type": "markdown",
   "metadata": {},
   "source": [
    "https://pythonhosted.org/pythran/\n",
    "\n",
    "    %load_ext pythranmagic\n",
    "    \n",
    "    %%pythran"
   ]
  },
  {
   "cell_type": "markdown",
   "metadata": {},
   "source": [
    "## Parallel Processing\n",
    "\n",
    "[DistNumPy](https://code.google.com/p/distnumpy/)\n",
    "\n",
    "[Bohrium](http://bohrium.bitbucket.org/)\n",
    "\n",
    "[DistArray](http://distarray.readthedocs.org/)\n",
    "\n",
    "[Distributed Array Protocol](http://distributed-array-protocol.readthedocs.org/)\n",
    "\n",
    "[Disco](http://discoproject.org/)\n",
    "\n",
    "[SCOOP](http://code.google.com/p/scoop/)"
   ]
  },
  {
   "cell_type": "markdown",
   "metadata": {},
   "source": [
    "## Links\n",
    "\n",
    "http://sebastianraschka.com/Articles/2014_multiprocessing_intro.html\n",
    "\n",
    "http://nbviewer.ipython.org/github/rasbt/python_reference/blob/master/tutorials/multiprocessing_intro.ipynb\n",
    "\n",
    "http://homes.cs.washington.edu/~jmschr/lectures/Parallel_Processing_in_Python.html\n",
    "\n",
    "http://www.blog.pythonlibrary.org/2016/05/24/python-101-an-intro-to-benchmarking-your-code/\n",
    "\n",
    "https://wiki.python.org/moin/PythonSpeed/PerformanceTips\n",
    "\n",
    "https://towardsdatascience.com/speed-up-jupyter-notebooks-20716cbe2025"
   ]
  },
  {
   "cell_type": "markdown",
   "metadata": {},
   "source": [
    "## TODO\n",
    "\n",
    "    python -O"
   ]
  },
  {
   "cell_type": "markdown",
   "metadata": {},
   "source": [
    "## Memory Usage\n",
    "\n",
    "http://pythonhosted.org/Pympler/\n",
    "\n",
    "http://fa.bianp.net/blog/2013/different-ways-to-get-memory-consumption-or-lessons-learned-from-memory_profiler/"
   ]
  },
  {
   "cell_type": "markdown",
   "metadata": {},
   "source": [
    "<p xmlns:dct=\"http://purl.org/dc/terms/\">\n",
    "  <a rel=\"license\"\n",
    "     href=\"http://creativecommons.org/publicdomain/zero/1.0/\">\n",
    "    <img src=\"http://i.creativecommons.org/p/zero/1.0/88x31.png\" style=\"border-style: none;\" alt=\"CC0\" />\n",
    "  </a>\n",
    "  <br />\n",
    "  To the extent possible under law,\n",
    "  <span rel=\"dct:publisher\" resource=\"[_:publisher]\">the person who associated CC0</span>\n",
    "  with this work has waived all copyright and related or neighboring\n",
    "  rights to this work.\n",
    "</p>"
   ]
  }
 ],
 "metadata": {
  "kernelspec": {
   "display_name": "Python 3",
   "language": "python",
   "name": "python3"
  },
  "language_info": {
   "codemirror_mode": {
    "name": "ipython",
    "version": 3
   },
   "file_extension": ".py",
   "mimetype": "text/x-python",
   "name": "python",
   "nbconvert_exporter": "python",
   "pygments_lexer": "ipython3",
   "version": "3.7.4+"
  }
 },
 "nbformat": 4,
 "nbformat_minor": 4
}
