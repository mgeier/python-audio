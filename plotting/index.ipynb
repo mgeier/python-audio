{
 "cells": [
  {
   "cell_type": "markdown",
   "metadata": {},
   "source": [
    "# Plotting with Python\n",
    "\n",
    "[back to main page](../index.ipynb)\n",
    "\n",
    "The de-facto standard library for plotting in Python is \"Matplotlib\".\n",
    "\n",
    "* [Getting Started with Matplotlib](matplotlib.ipynb)\n",
    "\n",
    "* [Default Values for Matplotlib's \"inline\" backend](matplotlib-inline-defaults.ipynb)\n",
    "\n",
    "* [Colormaps in Matplotlib](matplotlib-colormaps.ipynb)\n",
    "\n",
    "* [Properly Sized Color Bars in Matplotlib](matplotlib-colorbar.ipynb)\n",
    "\n",
    "* [Creating Animations with Matplotlib](matplotlib-animation.ipynb)\n",
    "\n",
    "* [Using the \"notebook\" backend](matplotlib-notebook-backend.ipynb)\n",
    "\n",
    "* [Zoomable Plots on Static HTML Notebooks](mpld3.ipynb)\n",
    "\n",
    "The following topics are work in progress:\n",
    "\n",
    "* [Creating Plots for LaTeX Documents](latex.ipynb)\n",
    "\n",
    "* [Waterfall Plots](waterfall.ipynb)"
   ]
  },
  {
   "cell_type": "markdown",
   "metadata": {},
   "source": [
    "## External Links\n",
    "\n",
    "https://python-graph-gallery.com/\n",
    "\n",
    "### matplotlib\n",
    "\n",
    "http://matplotlib.org/\n",
    "\n",
    "http://matplotlib.org/gallery.html\n",
    "\n",
    "http://matplotlib.org/faq/usage_faq.html\n",
    "\n",
    "http://matplotlib.org/users/pyplot_tutorial.html\n",
    "\n",
    "http://matplotlib.org/users/artists.html\n",
    "\n",
    "https://github.com/rasbt/matplotlib-gallery\n",
    "\n",
    "http://nbviewer.ipython.org/github/jrjohansson/scientific-python-lectures/blob/master/Lecture-4-Matplotlib.ipynb\n",
    "\n",
    "http://worksofscience.net/matplotlib/fig\n",
    "\n",
    "http://worksofscience.net/matplotlib/gridspec\n",
    "\n",
    "http://nbviewer.ipython.org/github/rasbt/matplotlib-gallery/blob/master/ipynb/publication.ipynb\n",
    "\n",
    "http://pbpython.com/effective-matplotlib.html\n",
    "\n",
    "http://www.labri.fr/perso/nrougier/teaching/matplotlib/matplotlib.html\n",
    "\n",
    "https://realpython.com/blog/python/python-matplotlib-guide/"
   ]
  },
  {
   "cell_type": "markdown",
   "metadata": {},
   "source": [
    "### Interactive Plots\n",
    "\n",
    "`ipywidgets.interact`: https://ipywidgets.readthedocs.io/en/latest/examples/Using%20Interact.html\n",
    "\n",
    "https://www.nbinteract.com/"
   ]
  },
  {
   "cell_type": "markdown",
   "metadata": {},
   "source": [
    "### seaborn\n",
    "\n",
    "http://stanford.edu/~mwaskom/software/seaborn/"
   ]
  },
  {
   "cell_type": "markdown",
   "metadata": {},
   "source": [
    "### Animations\n",
    "\n",
    "https://jakevdp.github.io/blog/2012/08/18/matplotlib-animation-tutorial/\n",
    "\n",
    "https://github.com/jakevdp/JSAnimation $\\to$ [example](http://nbviewer.ipython.org/github/jakevdp/JSAnimation/blob/master/animation_example.ipynb)\n",
    "\n",
    "sound field examples: http://blog.kaistale.com/?p=728"
   ]
  },
  {
   "cell_type": "markdown",
   "metadata": {},
   "source": [
    "### Spectrogram\n",
    "\n",
    "https://github.com/LCAV/TimeDomainAcousticRakeReceiver/blob/master/pyroomacoustics/stft.py"
   ]
  },
  {
   "cell_type": "markdown",
   "metadata": {},
   "source": [
    "### Volumetric Plots\n",
    "\n",
    "https://ipyvolume.readthedocs.io/  \n",
    "https://github.com/maartenbreddels/ipyvolume  \n",
    "https://pypi.python.org/pypi/ipyvolume"
   ]
  },
  {
   "cell_type": "markdown",
   "metadata": {},
   "source": [
    "### Brunel\n",
    "\n",
    "https://github.com/Brunel-Visualization/Brunel\n",
    "\n",
    "http://brunelvis.org/"
   ]
  },
  {
   "cell_type": "markdown",
   "metadata": {},
   "source": [
    "### Extract Data from Scanned Plots\n",
    "\n",
    "http://markummitchell.github.io/engauge-digitizer/"
   ]
  },
  {
   "cell_type": "markdown",
   "metadata": {},
   "source": [
    "<p xmlns:dct=\"http://purl.org/dc/terms/\">\n",
    "  <a rel=\"license\"\n",
    "     href=\"http://creativecommons.org/publicdomain/zero/1.0/\">\n",
    "    <img src=\"http://i.creativecommons.org/p/zero/1.0/88x31.png\" style=\"border-style: none;\" alt=\"CC0\" />\n",
    "  </a>\n",
    "  <br />\n",
    "  To the extent possible under law,\n",
    "  <span rel=\"dct:publisher\" resource=\"[_:publisher]\">the person who associated CC0</span>\n",
    "  with this work has waived all copyright and related or neighboring\n",
    "  rights to this work.\n",
    "</p>"
   ]
  }
 ],
 "metadata": {
  "kernelspec": {
   "display_name": "Python 3",
   "language": "python",
   "name": "python3"
  },
  "language_info": {
   "codemirror_mode": {
    "name": "ipython",
    "version": 3
   },
   "file_extension": ".py",
   "mimetype": "text/x-python",
   "name": "python",
   "nbconvert_exporter": "python",
   "pygments_lexer": "ipython3",
   "version": "3.7.4"
  }
 },
 "nbformat": 4,
 "nbformat_minor": 2
}
