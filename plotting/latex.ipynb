{
 "cells": [
  {
   "cell_type": "markdown",
   "metadata": {},
   "source": [
    "# Creating Plots for LaTeX Documents"
   ]
  },
  {
   "cell_type": "markdown",
   "metadata": {},
   "source": [
    "[back to overview page](index.ipynb)"
   ]
  },
  {
   "cell_type": "markdown",
   "metadata": {},
   "source": [
    "two different Python interfaces for PGFPLOTS:  \n",
    "https://github.com/lucastheis/pypgf  \n",
    "https://github.com/olivierverdier/pygfplots\n",
    "\n",
    "matplotlib PGF backend:  \n",
    "http://matplotlib.org/users/pgf.html\n",
    "\n",
    "convert matplotlib figures to PGFPLOTS:  \n",
    "https://github.com/nschloe/matplotlib2tikz"
   ]
  },
  {
   "cell_type": "markdown",
   "metadata": {},
   "source": [
    "Some random PGFPLOTS links:\n",
    "\n",
    "http://pgfplots.net/tikz/examples/\n",
    "\n",
    "http://tex.stackexchange.com/questions/39145/scaling-colormaps-with-pgfplots\n",
    "\n",
    "http://guido.vonrudorff.de/using-matplotlib-colorbars-in-pgfplots/\n",
    "\n",
    "http://tug.org/TUGboat/tb34-2/tb107dugge.pdf (Tufte-style plots)\n",
    "\n"
   ]
  },
  {
   "cell_type": "markdown",
   "metadata": {},
   "source": [
    "LaTeXiPy:  \n",
    "https://latexipy.readthedocs.io/  \n",
    "https://github.com/masasin/latexipy"
   ]
  },
  {
   "cell_type": "markdown",
   "metadata": {},
   "source": [
    "<p xmlns:dct=\"http://purl.org/dc/terms/\">\n",
    "  <a rel=\"license\"\n",
    "     href=\"http://creativecommons.org/publicdomain/zero/1.0/\">\n",
    "    <img src=\"http://i.creativecommons.org/p/zero/1.0/88x31.png\" style=\"border-style: none;\" alt=\"CC0\" />\n",
    "  </a>\n",
    "  <br />\n",
    "  To the extent possible under law,\n",
    "  <span rel=\"dct:publisher\" resource=\"[_:publisher]\">the person who associated CC0</span>\n",
    "  with this work has waived all copyright and related or neighboring\n",
    "  rights to this work.\n",
    "</p>"
   ]
  }
 ],
 "metadata": {
  "kernelspec": {
   "display_name": "Python 3",
   "language": "python",
   "name": "python3"
  },
  "language_info": {
   "codemirror_mode": {
    "name": "ipython",
    "version": 3
   },
   "file_extension": ".py",
   "mimetype": "text/x-python",
   "name": "python",
   "nbconvert_exporter": "python",
   "pygments_lexer": "ipython3",
   "version": "3.7.4"
  }
 },
 "nbformat": 4,
 "nbformat_minor": 1
}
