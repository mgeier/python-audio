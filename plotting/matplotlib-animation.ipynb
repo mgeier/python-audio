{
 "cells": [
  {
   "cell_type": "markdown",
   "metadata": {},
   "source": [
    "# Creating Animations with `matplotlib`\n",
    "\n",
    "[back to overview page](index.ipynb)\n",
    "\n",
    "There's a very good blog post by Jake Vanderplas: https://jakevdp.github.io/blog/2012/08/18/matplotlib-animation-tutorial/.\n",
    "Note, however, that the `init()` functions used by Jake are actually not necessary!\n",
    "\n",
    "For reference, consult the matplotlib animation docs: http://matplotlib.org/api/animation_api.html.\n",
    "\n",
    "If you want to use SymPy, have a look at\n",
    "[the notebook about SymPy animations](../sympy/sympy-matplotlib-animations.ipynb)."
   ]
  },
  {
   "cell_type": "markdown",
   "metadata": {},
   "source": [
    "This notebook shows how to create an animation using *head related impulse responses* (HRIRs), very similar to the animation on http://www.gnuplotting.org/animation-iii-video-revisited/.\n",
    "\n",
    "First, we import the typical NumPy/matplotlib stuff ..."
   ]
  },
  {
   "cell_type": "code",
   "execution_count": null,
   "metadata": {},
   "outputs": [],
   "source": [
    "%matplotlib inline\n",
    "import matplotlib.pyplot as plt\n",
    "import numpy as np"
   ]
  },
  {
   "cell_type": "markdown",
   "metadata": {},
   "source": [
    "... and a special class for our animation:"
   ]
  },
  {
   "cell_type": "code",
   "execution_count": null,
   "metadata": {},
   "outputs": [],
   "source": [
    "from matplotlib.animation import FuncAnimation"
   ]
  },
  {
   "cell_type": "markdown",
   "metadata": {},
   "source": [
    "The data we are using is originally stored in a `.mat` file, therefore we need the [loadmat()](http://docs.scipy.org/doc/scipy/reference/generated/scipy.io.loadmat.html) function from SciPy:"
   ]
  },
  {
   "cell_type": "code",
   "execution_count": null,
   "metadata": {},
   "outputs": [],
   "source": [
    "from scipy.io import loadmat"
   ]
  },
  {
   "cell_type": "markdown",
   "metadata": {},
   "source": [
    "Let's download the HRIR data from https://zenodo.org/record/4459911:"
   ]
  },
  {
   "cell_type": "code",
   "execution_count": null,
   "metadata": {},
   "outputs": [],
   "source": [
    "import io\n",
    "from urllib.request import urlopen\n",
    "\n",
    "url =  'https://zenodo.org/record/4459911/files/QU_KEMAR_anechoic_2m.mat'\n",
    "file = io.BytesIO(urlopen(url).read())\n",
    "\n",
    "# If you want to open a local file instead:\n",
    "#file = 'QU_KEMAR_anechoic_2m.mat'"
   ]
  },
  {
   "cell_type": "markdown",
   "metadata": {},
   "source": [
    "By default, the data structure obtained from a `.mat` file is quite clunky, the options `struct_as_record=False` and `squeeze_me=True` make it somewhat easier to handle."
   ]
  },
  {
   "cell_type": "code",
   "execution_count": null,
   "metadata": {},
   "outputs": [],
   "source": [
    "irs = loadmat(file, struct_as_record=False, squeeze_me=True)['irs']"
   ]
  },
  {
   "cell_type": "code",
   "execution_count": null,
   "metadata": {},
   "outputs": [],
   "source": [
    "irs._fieldnames"
   ]
  },
  {
   "cell_type": "markdown",
   "metadata": {},
   "source": [
    "There are several fields in the data structure `irs`, we'll be using these:\n",
    "\n",
    "field name | contents\n",
    "-----------|---------\n",
    "left | impulse responses for the left ear\n",
    "right | impulse responses for the right ear\n",
    "fs | sampling rate\n",
    "apparent_azimuth | directions of sound incidence (in radians)\n",
    "\n",
    "The actual impulse responses are stored as columns. There is one column for each angle of incidence."
   ]
  },
  {
   "cell_type": "code",
   "execution_count": null,
   "metadata": {},
   "outputs": [],
   "source": [
    "irs.left.shape, irs.right.shape"
   ]
  },
  {
   "cell_type": "markdown",
   "metadata": {},
   "source": [
    "To get an idea how the data looks like, let's plot all the columns in `irs.left`:"
   ]
  },
  {
   "cell_type": "code",
   "execution_count": null,
   "metadata": {},
   "outputs": [],
   "source": [
    "plt.plot(irs.left);"
   ]
  },
  {
   "cell_type": "markdown",
   "metadata": {},
   "source": [
    "It looks like the most interesting part is in the beginning ..."
   ]
  },
  {
   "cell_type": "code",
   "execution_count": null,
   "metadata": {},
   "outputs": [],
   "source": [
    "plt.plot(irs.left[:200]);"
   ]
  },
  {
   "cell_type": "markdown",
   "metadata": {},
   "source": [
    "We can still get a little closer ... let's cut out the interesting piece of the impulse responses:"
   ]
  },
  {
   "cell_type": "code",
   "execution_count": null,
   "metadata": {},
   "outputs": [],
   "source": [
    "selection = slice(30, 130)\n",
    "\n",
    "left = irs.left[selection]\n",
    "right = irs.right[selection]\n",
    "fs = irs.fs\n",
    "\n",
    "plt.plot(left)\n",
    "plt.figure()\n",
    "plt.plot(right);"
   ]
  },
  {
   "cell_type": "markdown",
   "metadata": {},
   "source": [
    "Now let's look at a single impulse reponse:"
   ]
  },
  {
   "cell_type": "code",
   "execution_count": null,
   "metadata": {},
   "outputs": [],
   "source": [
    "plt.plot(left[:, 270]);"
   ]
  },
  {
   "cell_type": "markdown",
   "metadata": {},
   "source": [
    "This looks a bit jagged, probably we can make it a bit smoother by oversampling?"
   ]
  },
  {
   "cell_type": "code",
   "execution_count": null,
   "metadata": {},
   "outputs": [],
   "source": [
    "from scipy import signal\n",
    "\n",
    "upsampling_factor = 4\n",
    "left = signal.resample(left, upsampling_factor * len(left), axis=0)\n",
    "right = signal.resample(right, upsampling_factor * len(right), axis=0)\n",
    "fs = upsampling_factor * fs"
   ]
  },
  {
   "cell_type": "markdown",
   "metadata": {},
   "source": [
    "Note that the [resample()](http://docs.scipy.org/doc/scipy/reference/generated/scipy.signal.resample.html) function assumes the input signal to be periodic (which doesn't apply in our case!), therefore our result isn't quite correct!\n",
    "Since we are only using this for plotting, that's OK, but for any *serious* signal processing tasks involving resampling, you should read up on the details!\n",
    "\n",
    "Let's see how the re-sampled signal looks:"
   ]
  },
  {
   "cell_type": "code",
   "execution_count": null,
   "metadata": {},
   "outputs": [],
   "source": [
    "plt.plot(left[:, 270]);"
   ]
  },
  {
   "cell_type": "markdown",
   "metadata": {},
   "source": [
    "OK, that looks much smoother.\n",
    "\n",
    "The x-axis shows the time in samples, to get the time in milliseconds, we have to specify an array of time instants:"
   ]
  },
  {
   "cell_type": "code",
   "execution_count": null,
   "metadata": {},
   "outputs": [],
   "source": [
    "t = np.arange(len(left)) * 1000 / fs  # time in milliseconds"
   ]
  },
  {
   "cell_type": "markdown",
   "metadata": {},
   "source": [
    "The left impulse response shall appear above the right one, so we shift the left one a bit towards the top and the right one towards the bottom:"
   ]
  },
  {
   "cell_type": "code",
   "execution_count": null,
   "metadata": {},
   "outputs": [],
   "source": [
    "shift = 0.5\n",
    "\n",
    "left += shift\n",
    "right -= shift"
   ]
  },
  {
   "cell_type": "markdown",
   "metadata": {},
   "source": [
    "Now we can fine-tune how one of the frames is going to look like in detail:"
   ]
  },
  {
   "cell_type": "code",
   "execution_count": null,
   "metadata": {},
   "outputs": [],
   "source": [
    "idx = 270\n",
    "amplitude = 0.7\n",
    "\n",
    "fig, ax = plt.subplots(figsize=(8, 4.5))\n",
    "line1, = ax.plot(t, left[:, idx], linewidth=2, color='blue')\n",
    "line2, = ax.plot(t, right[:, idx], linewidth=2, color='red')\n",
    "ax.axis([t.min(), t.max(), -(shift + amplitude), shift + amplitude])\n",
    "for spine in ax.spines.values():\n",
    "    spine.set_visible(False)\n",
    "ax.xaxis.set_ticks_position('none')\n",
    "ax.xaxis.grid()\n",
    "ax.yaxis.set_ticks([])\n",
    "\n",
    "text = ax.text(t.max(), 0, '<angle>', fontsize=16,\n",
    "               horizontalalignment='right', verticalalignment='center')\n",
    "ax.text(0, shift, 'left', fontsize=12,\n",
    "        horizontalalignment='left', verticalalignment='bottom')\n",
    "ax.text(0, -shift, 'right', fontsize=12,\n",
    "        horizontalalignment='left', verticalalignment='bottom')\n",
    "ax.set_xlabel(\"time / milliseconds\");"
   ]
  },
  {
   "cell_type": "markdown",
   "metadata": {},
   "source": [
    "OK. Now that we have one frame of our animation, we just need a function that is called for each frame to make any changes that are necessary for the current frame."
   ]
  },
  {
   "cell_type": "code",
   "execution_count": null,
   "metadata": {},
   "outputs": [],
   "source": [
    "def animation_func(idx):\n",
    "    line1.set_ydata(left[:, idx])\n",
    "    line2.set_ydata(right[:, idx])\n",
    "    text.set_text('{:g}°'.format(np.rad2deg(irs.apparent_azimuth[idx])))\n",
    "    return line1, line2, text  # only necessary for blit=True"
   ]
  },
  {
   "cell_type": "code",
   "execution_count": null,
   "metadata": {},
   "outputs": [],
   "source": [
    "ani = FuncAnimation(fig, animation_func, frames=left.shape[1],\n",
    "                    blit=True, interval=60)"
   ]
  },
  {
   "cell_type": "markdown",
   "metadata": {},
   "source": [
    "Note that the option `blit=True` can be used to make the display in a plot window more efficient.\n",
    "For that to work, the animation function has to return all plot objects that it manipulates.\n",
    "\n",
    "Setting `blit=True` has no effect when using `save()` (as it is used below).\n",
    "\n",
    "Use `plt.show()` to open a plotting window and show the animation.\n",
    "However, within a Jupyter notebook this doesn't really work well, so it might be better to save the animation to a separate video file:"
   ]
  },
  {
   "cell_type": "code",
   "execution_count": null,
   "metadata": {},
   "outputs": [],
   "source": [
    "ani.save('hrir.mp4', codec='h264')"
   ]
  },
  {
   "cell_type": "markdown",
   "metadata": {},
   "source": [
    "The [generated video](hrir.mp4) can be shown within the notebook using the HTML5 `<video>` tag like this:\n",
    "\n",
    "```html\n",
    "<video src=hrir.mp4 controls loop>video tag not supported</video>\n",
    "```\n",
    "\n",
    "And this is how the video looks like:\n",
    "\n",
    "<video src=hrir.mp4 controls loop>video tag not supported</video>\n",
    "\n",
    "Alternatively, the animation can be embedded in the Jupyter notebook as an inline video\n",
    "(using [to_html5_video()](http://matplotlib.org/api/_as_gen/matplotlib.animation.Animation.html#matplotlib.animation.Animation.to_html5_video))\n",
    "or as JavaScript animation\n",
    "(using [to_jshtml()](http://matplotlib.org/api/_as_gen/matplotlib.animation.Animation.html#matplotlib.animation.Animation.to_jshtml))."
   ]
  },
  {
   "cell_type": "markdown",
   "metadata": {},
   "source": [
    "## Further Reading\n",
    "\n",
    "http://jakevdp.github.io/blog/2017/03/08/triple-pendulum-chaos/"
   ]
  },
  {
   "cell_type": "markdown",
   "metadata": {},
   "source": [
    "<p xmlns:dct=\"http://purl.org/dc/terms/\">\n",
    "  <a rel=\"license\"\n",
    "     href=\"http://creativecommons.org/publicdomain/zero/1.0/\">\n",
    "    <img src=\"http://i.creativecommons.org/p/zero/1.0/88x31.png\" style=\"border-style: none;\" alt=\"CC0\" />\n",
    "  </a>\n",
    "  <br />\n",
    "  To the extent possible under law,\n",
    "  <span rel=\"dct:publisher\" resource=\"[_:publisher]\">the person who associated CC0</span>\n",
    "  with this work has waived all copyright and related or neighboring\n",
    "  rights to this work.\n",
    "</p>"
   ]
  }
 ],
 "metadata": {
  "kernelspec": {
   "display_name": "Python 3",
   "language": "python",
   "name": "python3"
  },
  "language_info": {
   "codemirror_mode": {
    "name": "ipython",
    "version": 3
   },
   "file_extension": ".py",
   "mimetype": "text/x-python",
   "name": "python",
   "nbconvert_exporter": "python",
   "pygments_lexer": "ipython3",
   "version": "3.9.2"
  }
 },
 "nbformat": 4,
 "nbformat_minor": 4
}
