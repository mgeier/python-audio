{
 "cells": [
  {
   "cell_type": "markdown",
   "metadata": {},
   "source": [
    "# Properly Sized Color Bars for `imshow()` Plots in Matplotlib\n",
    "\n",
    "[back to overview page](index.ipynb)\n",
    "\n",
    "By default, the size of color bars is computed to match the figure size.\n",
    "However, in most cases I have seen, it would be more appropriate to scale the color bars to match the size of the actual plot.\n",
    "\n",
    "If you want to skip all the boring explanations, you can jump right to [the solution](#The-Proper-Solution).\n",
    "\n",
    "You can also have a look at [my stackoverflow answer on the topic](http://stackoverflow.com/a/33505522/).\n",
    "\n",
    "As always, the information on this page might be outdated:"
   ]
  },
  {
   "cell_type": "code",
   "execution_count": null,
   "metadata": {},
   "outputs": [],
   "source": [
    "!date +%F"
   ]
  },
  {
   "cell_type": "markdown",
   "metadata": {},
   "source": [
    "This is the date of the last change to this page. If it's older then half a year or a year, it is very likely to be outdated, so don't read it!"
   ]
  },
  {
   "cell_type": "code",
   "execution_count": null,
   "metadata": {},
   "outputs": [],
   "source": [
    "import matplotlib.pyplot as plt\n",
    "import numpy as np"
   ]
  },
  {
   "cell_type": "code",
   "execution_count": null,
   "metadata": {},
   "outputs": [],
   "source": [
    "plt.rcParams['image.cmap'] = 'coolwarm'\n",
    "plt.rcParams['image.origin'] = 'lower'"
   ]
  },
  {
   "cell_type": "markdown",
   "metadata": {},
   "source": [
    "Please check if your local settings for the \"inline\" backend are meaningful, see [Default Values for Matplotlib's \"inline\" backend](matplotlib-inline-defaults.ipynb)."
   ]
  },
  {
   "cell_type": "markdown",
   "metadata": {},
   "source": [
    "Some [dummy data](http://matplotlib.org/examples/pylab_examples/pcolor_demo.html):"
   ]
  },
  {
   "cell_type": "code",
   "execution_count": null,
   "metadata": {},
   "outputs": [],
   "source": [
    "def dummy_data(xmin, xmax):\n",
    "    ymin, ymax = -2, 2\n",
    "    x, y = np.meshgrid(np.arange(xmin, xmax, 0.1), np.arange(ymin, ymax, 0.1))\n",
    "    z = (1 - x / 2 + x ** 5 + y ** 3) * np.exp(-x ** 2 - y ** 2)\n",
    "    extent = x.min(), x.max(), y.min(), y.max()\n",
    "    return z, extent"
   ]
  },
  {
   "cell_type": "code",
   "execution_count": null,
   "metadata": {},
   "outputs": [],
   "source": [
    "z, extent = dummy_data(-3, 3)\n",
    "zmax = np.max(np.abs(z))"
   ]
  },
  {
   "cell_type": "markdown",
   "metadata": {},
   "source": [
    "## The Problem"
   ]
  },
  {
   "cell_type": "code",
   "execution_count": null,
   "metadata": {},
   "outputs": [],
   "source": [
    "fig, ax = plt.subplots()\n",
    "im = ax.imshow(z, extent=extent, vmin=-zmax, vmax=zmax)\n",
    "fig.colorbar(im);"
   ]
  },
  {
   "cell_type": "markdown",
   "metadata": {},
   "source": [
    "Obviously, the color bar is too tall.\n",
    "\n",
    "If this doesn't bother you, stop reading."
   ]
  },
  {
   "cell_type": "markdown",
   "metadata": {},
   "source": [
    "## \"Solution\" 1: Fiddling with the Figure Size\n",
    "\n",
    "Since the figure seems to be too high for its width, let's just make it a little lower:"
   ]
  },
  {
   "cell_type": "code",
   "execution_count": null,
   "metadata": {},
   "outputs": [],
   "source": [
    "plt.rcParams['figure.figsize']"
   ]
  },
  {
   "cell_type": "code",
   "execution_count": null,
   "metadata": {},
   "outputs": [],
   "source": [
    "fig, ax = plt.subplots(figsize=(6.4, 3))\n",
    "im = ax.imshow(z, extent=extent, vmin=-zmax, vmax=zmax)\n",
    "fig.colorbar(im);"
   ]
  },
  {
   "cell_type": "markdown",
   "metadata": {},
   "source": [
    "This works, but it's not a general solution.\n",
    "Whenever you have a different data size, you'll have to fiddle with the figure size."
   ]
  },
  {
   "cell_type": "markdown",
   "metadata": {},
   "source": [
    "## Aside: Color Bar Aspect Ratio\n",
    "\n",
    "By default, a color bar has an aspect ratio of 20, i.e. its height is 20 times its width (in the case of a vertical color bar).\n",
    "\n",
    "If you want it wider or narrower, you have to choose a lower or higher value, respectively.\n",
    "To get twice the width as before, let's use an aspect ratio of 10."
   ]
  },
  {
   "cell_type": "code",
   "execution_count": null,
   "metadata": {},
   "outputs": [],
   "source": [
    "fig, ax = plt.subplots(figsize=(6.4, 3))\n",
    "im = ax.imshow(z, extent=extent, vmin=-zmax, vmax=zmax)\n",
    "fig.colorbar(im, aspect=10);"
   ]
  },
  {
   "cell_type": "markdown",
   "metadata": {},
   "source": [
    "## Aside: Distance between Plot and Color Bar\n",
    "\n",
    "If you don't like the amount of space between the color bar and the actual plot (the default hardly ever looks nice), you can use the `pad` parameter:"
   ]
  },
  {
   "cell_type": "code",
   "execution_count": null,
   "metadata": {},
   "outputs": [],
   "source": [
    "fig, ax = plt.subplots(figsize=(6.4, 3))\n",
    "im = ax.imshow(z, extent=extent, vmin=-zmax, vmax=zmax)\n",
    "fig.colorbar(im, pad=0.02);"
   ]
  },
  {
   "cell_type": "markdown",
   "metadata": {},
   "source": [
    "The value of `pad` is given as relative width of the plot (between 0.0 and 1.0).\n",
    "See below for how to use a more meaningful quantity."
   ]
  },
  {
   "cell_type": "markdown",
   "metadata": {},
   "source": [
    "## \"Solution\" 2: Fiddling with `shrink`"
   ]
  },
  {
   "cell_type": "code",
   "execution_count": null,
   "metadata": {},
   "outputs": [],
   "source": [
    "fig, ax = plt.subplots()\n",
    "im = ax.imshow(z, extent=extent, vmin=-zmax, vmax=zmax)\n",
    "fig.colorbar(im, shrink=0.71);"
   ]
  },
  {
   "cell_type": "markdown",
   "metadata": {},
   "source": [
    "## \"Solution\" 3: Fiddling with Manual Placement\n",
    "\n",
    "* using `fig.add_axes()`\n",
    "\n",
    "* using GridSpec: http://worksofscience.net/matplotlib/colorbar\n",
    "\n",
    "* using ImageGrid: http://matplotlib.org/mpl_toolkits/axes_grid/users/overview.html#imagegrid\n",
    "\n",
    "The details are left as an exercise for the reader.\n",
    "Spoiler alert: It will be fiddly!"
   ]
  },
  {
   "cell_type": "markdown",
   "metadata": {},
   "source": [
    "## Official \"Solution\" from the Matplotlib Documentation: `axes_grid1`\n",
    "\n",
    "In all of the above \"solutions\", we had to fiddle with some parameters. And whenever the data size changed, we had to do it all over again.\n",
    "\n",
    "But the official matplotlib documentation shows a way how to get the height right without fiddling:\n",
    "https://matplotlib.org/stable/gallery/axes_grid1/demo_colorbar_with_axes_divider.html.\n",
    "\n",
    "Sadly, this is quite complicated.\n",
    "And, as we'll see, it only avoids a part of the fiddling ..."
   ]
  },
  {
   "cell_type": "code",
   "execution_count": null,
   "metadata": {},
   "outputs": [],
   "source": [
    "from mpl_toolkits import axes_grid1"
   ]
  },
  {
   "cell_type": "code",
   "execution_count": null,
   "metadata": {},
   "outputs": [],
   "source": [
    "fig, ax = plt.subplots()\n",
    "im = ax.imshow(z, extent=extent, vmin=-zmax, vmax=zmax)\n",
    "divider = axes_grid1.make_axes_locatable(ax)\n",
    "cax = divider.append_axes('right', size='5%', pad=0.05)\n",
    "fig.colorbar(im, cax=cax);"
   ]
  },
  {
   "cell_type": "markdown",
   "metadata": {},
   "source": [
    "This is better than the previous \"solutions\", because the color bar will now have the correct height, regardless of the plot width.\n",
    "\n",
    "However, although the height is correct, the width is given relative to the width of the image plot.\n",
    "This means that if we change the width of our plot, the width of the color bar will change, too."
   ]
  },
  {
   "cell_type": "code",
   "execution_count": null,
   "metadata": {},
   "outputs": [],
   "source": [
    "narrow_z, narrow_extent = dummy_data(-2, 0)"
   ]
  },
  {
   "cell_type": "code",
   "execution_count": null,
   "metadata": {},
   "outputs": [],
   "source": [
    "fig, ax = plt.subplots()\n",
    "im = ax.imshow(narrow_z, extent=narrow_extent, vmin=-zmax, vmax=zmax)\n",
    "divider = axes_grid1.make_axes_locatable(ax)\n",
    "cax = divider.append_axes('right', size='5%', pad=0.05)\n",
    "fig.colorbar(im, cax=cax);"
   ]
  },
  {
   "cell_type": "markdown",
   "metadata": {},
   "source": [
    "To get the width we want, we still have to do some fiddling with the `size` parameter."
   ]
  },
  {
   "cell_type": "markdown",
   "metadata": {},
   "source": [
    "## The Proper Solution\n",
    "\n",
    "The mysterious `axes_grid1` module looked promising, but we'll have to try a little harder.\n",
    "\n",
    "This stuff is getting more and more complicated, so I'm putting it into a little helper function:"
   ]
  },
  {
   "cell_type": "code",
   "execution_count": null,
   "metadata": {},
   "outputs": [],
   "source": [
    "from mpl_toolkits import axes_grid1\n",
    "\n",
    "def add_colorbar(im, aspect=20, pad_fraction=0.5, **kwargs):\n",
    "    \"\"\"Add a vertical color bar to an image plot.\"\"\"\n",
    "    divider = axes_grid1.make_axes_locatable(im.axes)\n",
    "    width = axes_grid1.axes_size.AxesY(im.axes, aspect=1./aspect)\n",
    "    pad = axes_grid1.axes_size.Fraction(pad_fraction, width)\n",
    "    current_ax = plt.gca()\n",
    "    cax = divider.append_axes('right', size=width, pad=pad)\n",
    "    plt.sca(current_ax)\n",
    "    return im.axes.figure.colorbar(im, cax=cax, **kwargs)"
   ]
  },
  {
   "cell_type": "markdown",
   "metadata": {},
   "source": [
    "Note that you only have to pass the image object which you get from `imshow()`, the containing `Axes` and `Figure` objects are obtained automatically.\n",
    "\n",
    "Further, you should note that `append_axes()` updates matplotlib's internal [current axes object](http://matplotlib.org/api/pyplot_api.html#matplotlib.pyplot.gca).\n",
    "This might not be what you expect, especially if you want to add something like axis labels afterwards.\n",
    "Therefore, the function restores the current axes object from before the call to `append_axes()`.\n",
    "\n",
    "OK, let's see how this works on the narrow plot from above:"
   ]
  },
  {
   "cell_type": "code",
   "execution_count": null,
   "metadata": {},
   "outputs": [],
   "source": [
    "fig, ax = plt.subplots()\n",
    "im = ax.imshow(narrow_z, extent=narrow_extent, vmin=-zmax, vmax=zmax)\n",
    "add_colorbar(im);"
   ]
  },
  {
   "cell_type": "markdown",
   "metadata": {},
   "source": [
    "Good. Now the wide plot:"
   ]
  },
  {
   "cell_type": "code",
   "execution_count": null,
   "metadata": {},
   "outputs": [],
   "source": [
    "fig, ax = plt.subplots()\n",
    "im = ax.imshow(z, extent=extent, vmin=-zmax, vmax=zmax)\n",
    "add_colorbar(im);"
   ]
  },
  {
   "cell_type": "markdown",
   "metadata": {},
   "source": [
    "Very nice! Now the color bar looks the same in both cases, just as I like it.\n",
    "\n",
    "And there was no fiddling involved at all (but I admit that the code looks a bit frightening).\n",
    "\n",
    "The aspect ratio and the space between color bar and plot can still be tweaked, if desired:"
   ]
  },
  {
   "cell_type": "code",
   "execution_count": null,
   "metadata": {},
   "outputs": [],
   "source": [
    "fig, ax = plt.subplots()\n",
    "im = ax.imshow(z, extent=extent, vmin=-zmax, vmax=zmax)\n",
    "add_colorbar(im, aspect=16/9, pad_fraction=1);"
   ]
  },
  {
   "cell_type": "markdown",
   "metadata": {},
   "source": [
    "I'm not saying that this looks nice, but it should illustrate how to use the `aspect` and `pad_fraction` parameters."
   ]
  },
  {
   "cell_type": "markdown",
   "metadata": {},
   "source": [
    "## Does This Work with Subplots?\n",
    "\n",
    "I guess ... let's try, shall we?"
   ]
  },
  {
   "cell_type": "code",
   "execution_count": null,
   "metadata": {},
   "outputs": [],
   "source": [
    "fig, (ax1, ax2) = plt.subplots(nrows=2)\n",
    "im = ax1.imshow(z, extent=extent, vmin=-zmax, vmax=zmax)\n",
    "add_colorbar(im)\n",
    "ax2.plot([4, 8, 15, 16, 23, 42]);"
   ]
  },
  {
   "cell_type": "markdown",
   "metadata": {},
   "source": [
    "Yes, it seems to work (although this very example doesn't look very pleasing)."
   ]
  },
  {
   "cell_type": "markdown",
   "metadata": {},
   "source": [
    "## Does This Work with Horizontal Color Bars?\n",
    "\n",
    "I don't know, I didn't try."
   ]
  },
  {
   "cell_type": "markdown",
   "metadata": {},
   "source": [
    "## More Stuff\n",
    "\n",
    "text labels inside the colorbar: http://stackoverflow.com/questions/15908371/matplotlib-colorbars-and-its-text-labels\n",
    "\n",
    "multiple subplots with colorbars: http://stackoverflow.com/questions/18266642/multiple-imshow-subplots-each-with-colorbar\n",
    "\n",
    "one colorbar for multiple subplots:\n",
    "* http://stackoverflow.com/questions/7875688/how-can-i-create-a-standard-colorbar-for-a-series-of-plots-in-python\n",
    "* http://stackoverflow.com/questions/13784201/matplotlib-2-subplots-1-colorbar"
   ]
  },
  {
   "cell_type": "markdown",
   "metadata": {},
   "source": [
    "<p xmlns:dct=\"http://purl.org/dc/terms/\">\n",
    "  <a rel=\"license\"\n",
    "     href=\"http://creativecommons.org/publicdomain/zero/1.0/\">\n",
    "    <img src=\"http://i.creativecommons.org/p/zero/1.0/88x31.png\" style=\"border-style: none;\" alt=\"CC0\" />\n",
    "  </a>\n",
    "  <br />\n",
    "  To the extent possible under law,\n",
    "  <span rel=\"dct:publisher\" resource=\"[_:publisher]\">the person who associated CC0</span>\n",
    "  with this work has waived all copyright and related or neighboring\n",
    "  rights to this work.\n",
    "</p>"
   ]
  }
 ],
 "metadata": {
  "kernelspec": {
   "display_name": "Python 3 (ipykernel)",
   "language": "python",
   "name": "python3"
  },
  "language_info": {
   "codemirror_mode": {
    "name": "ipython",
    "version": 3
   },
   "file_extension": ".py",
   "mimetype": "text/x-python",
   "name": "python",
   "nbconvert_exporter": "python",
   "pygments_lexer": "ipython3",
   "version": "3.10.14"
  }
 },
 "nbformat": 4,
 "nbformat_minor": 4
}
