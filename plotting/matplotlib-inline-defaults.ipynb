{
 "cells": [
  {
   "cell_type": "markdown",
   "metadata": {},
   "source": [
    "# Default Values for Matplotlib's \"inline\" backend\n",
    "\n",
    "[back to overview page](index.ipynb)"
   ]
  },
  {
   "cell_type": "markdown",
   "metadata": {},
   "source": [
    "<div class=\"alert alert-info\">\n",
    "\n",
    "Make sure to use at least version 0.1.6 of the `matplotlib-inline` package\n",
    "(which is an automatic dependency of the `ipython` package).\n",
    "\n",
    "</div>"
   ]
  },
  {
   "cell_type": "markdown",
   "metadata": {},
   "source": [
    "By default, the plots created with the \"inline\" backend have the wrong size.\n",
    "More specifically, PNG plots (the default) will be slightly larger than SVG plots\n",
    "(see below for an example)."
   ]
  },
  {
   "cell_type": "markdown",
   "metadata": {},
   "source": [
    "This can be fixed easily by creating a file named `matplotlibrc`\n",
    "(in the directory where your Jupyter notebooks live)\n",
    "and adding the following line:\n",
    "\n",
    "    figure.dpi: 96\n",
    "\n",
    "If you are using Git to manage your files,\n",
    "don't forget to commit this local configuration file to your repository.\n",
    "Different directories can have different local configurations.\n",
    "If a given configuration should apply to multiple directories,\n",
    "symbolic links can be created in each directory.\n",
    "\n",
    "For more details about `matplotlibrc` files, have a look at the\n",
    "[Matplotlib docs](https://matplotlib.org/stable/tutorials/introductory/customizing.html#the-matplotlibrc-file)."
   ]
  },
  {
   "cell_type": "markdown",
   "metadata": {},
   "source": [
    "If you want to use SVG plots by default (or if you want to use PDF plots for nicer PDF exports), read the section [Changing the Default Format](#Changing-the-Default-Format) below."
   ]
  },
  {
   "cell_type": "markdown",
   "metadata": {},
   "source": [
    "If you are using `nbsphinx` to publish your notebooks, have a look at https://nbsphinx.readthedocs.io/code-cells.html#Plots for how to use SVG and PDF plots."
   ]
  },
  {
   "cell_type": "markdown",
   "metadata": {},
   "source": [
    "This is all you really need to know, but if you want to read about a few more details, just keep reading.\n",
    "\n",
    "You might also be interested in [Getting Started with Matplotlib](matplotlib.ipynb)."
   ]
  },
  {
   "cell_type": "markdown",
   "metadata": {},
   "source": [
    "## Details\n",
    "\n",
    "The settings of Matplotlib, IPython and Jupyter notebook tend to change from time to time.\n",
    "Therefore, the information in this notebook might be outdated.\n",
    "This is the date when it was last executed:"
   ]
  },
  {
   "cell_type": "code",
   "execution_count": null,
   "metadata": {},
   "outputs": [],
   "source": [
    "!date +%F"
   ]
  },
  {
   "cell_type": "markdown",
   "metadata": {},
   "source": [
    "If that's more than a few months in the past, you should probably not read the rest of this notebook."
   ]
  },
  {
   "cell_type": "markdown",
   "metadata": {},
   "source": [
    "Before version 0.1.6 of the `matplotlib-inline` package\n",
    "(which is an automatic dependency of the `ipython` package),\n",
    "the \"inline\" PNG plots are much too small.\n",
    "That's because the plot resolution was overwritten to be 72 DPI (= \"dots per inch\").\n",
    "This is appropriate for the [Qt Console](https://qtconsole.readthedocs.io/),\n",
    "but it's too small for the Jupyter notebook."
   ]
  },
  {
   "cell_type": "markdown",
   "metadata": {},
   "source": [
    "Since version 0.1.6 of the `matplotlib-inline` package,\n",
    "this override has been removed\n",
    "(see https://github.com/ipython/matplotlib-inline/pull/14),\n",
    "which means that now Matplotlib's original default value of 100 DPI is used.\n",
    "Sadly, that's now a bit too large!"
   ]
  },
  {
   "cell_type": "markdown",
   "metadata": {},
   "source": [
    "The correct value for PNG plots is 96 DPI,\n",
    "which makes them the same size as SVG plots in the browser.\n",
    "And they are the same size as PDF plots when used in LaTeX.\n",
    "Also, when properly converted to LaTeX/PDF and printed on paper,\n",
    "the figure size in inch should correspond to the actual size of the plot.\n",
    "\n",
    "The resolution can be changed with the `'figure.dpi'` setting as shown above.\n",
    "\n",
    "Note that the actual *size* of the plots (in inches) can still be influenced with the `figsize` option."
   ]
  },
  {
   "cell_type": "code",
   "execution_count": null,
   "metadata": {},
   "outputs": [],
   "source": [
    "import matplotlib.pyplot as plt"
   ]
  },
  {
   "cell_type": "code",
   "execution_count": null,
   "metadata": {},
   "outputs": [],
   "source": [
    "data = 4, 9, 7, 20, 6, 33, 13, 23, 16, 62, 8"
   ]
  },
  {
   "cell_type": "code",
   "execution_count": null,
   "metadata": {},
   "outputs": [],
   "source": [
    "plt.plot(data);"
   ]
  },
  {
   "cell_type": "markdown",
   "metadata": {},
   "source": [
    "The above plot should use the PNG format (which is the default):"
   ]
  },
  {
   "cell_type": "code",
   "execution_count": null,
   "metadata": {},
   "outputs": [],
   "source": [
    "%config InlineBackend.figure_formats"
   ]
  },
  {
   "cell_type": "markdown",
   "metadata": {},
   "source": [
    "And it should use the correct DPI setting,\n",
    "because the current directory contains\n",
    "a [matplotlibrc](matplotlibrc) file containing the line ...\n",
    "\n",
    "    figure.dpi: 96\n",
    "\n",
    "... which should lead to the correct default value:"
   ]
  },
  {
   "cell_type": "code",
   "execution_count": null,
   "metadata": {},
   "outputs": [],
   "source": [
    "plt.rcParams['figure.dpi']"
   ]
  },
  {
   "cell_type": "markdown",
   "metadata": {},
   "source": [
    "Matplotlib's original default value would be:"
   ]
  },
  {
   "cell_type": "code",
   "execution_count": null,
   "metadata": {},
   "outputs": [],
   "source": [
    "plt.rcParamsDefault['figure.dpi']"
   ]
  },
  {
   "cell_type": "markdown",
   "metadata": {},
   "source": [
    "Let's temporarily change the default value:"
   ]
  },
  {
   "cell_type": "code",
   "execution_count": null,
   "metadata": {},
   "outputs": [],
   "source": [
    "plt.rcParams['figure.dpi'] = plt.rcParamsDefault['figure.dpi']"
   ]
  },
  {
   "cell_type": "code",
   "execution_count": null,
   "metadata": {},
   "outputs": [],
   "source": [
    "plt.plot(data);"
   ]
  },
  {
   "cell_type": "markdown",
   "metadata": {},
   "source": [
    "For direct comparison, the correct DPI setting again:"
   ]
  },
  {
   "cell_type": "code",
   "execution_count": null,
   "metadata": {},
   "outputs": [],
   "source": [
    "plt.rcParams['figure.dpi'] = plt.rcParamsOrig['figure.dpi']"
   ]
  },
  {
   "cell_type": "code",
   "execution_count": null,
   "metadata": {},
   "outputs": [],
   "source": [
    "plt.plot(data);"
   ]
  },
  {
   "cell_type": "markdown",
   "metadata": {},
   "source": [
    "Admittedly, the difference isn't huge, but it's clearly visible."
   ]
  },
  {
   "cell_type": "markdown",
   "metadata": {},
   "source": [
    "There is a separate DPI setting for saving a plot to a file.\n",
    "By default, this should be the same as `'figure.dpi'`."
   ]
  },
  {
   "cell_type": "code",
   "execution_count": null,
   "metadata": {},
   "outputs": [],
   "source": [
    "plt.rcParams['savefig.dpi']"
   ]
  },
  {
   "cell_type": "code",
   "execution_count": null,
   "metadata": {},
   "outputs": [],
   "source": [
    "fig, ax = plt.subplots()\n",
    "ax.plot(data)\n",
    "fig.savefig('myfigure01.png')\n",
    "plt.close(fig)"
   ]
  },
  {
   "cell_type": "markdown",
   "metadata": {},
   "source": [
    "The [saved figure](myfigure01.png) can be used in a Markdown cell like this:\n",
    "\n",
    "    ![an example plot](myfigure01.png)\n",
    "\n",
    "And it should be shown here:\n",
    "\n",
    "![an example plot](myfigure01.png)"
   ]
  },
  {
   "cell_type": "markdown",
   "metadata": {},
   "source": [
    "You might notice that the saved image has a larger white margin around the figure than what is visible in the previous plots.\n",
    "This is because by default, IPython uses the `'tight'` setting for `bbox_inches`.\n",
    "\n",
    "If you prefer the additional white margin, you can set this to `None`:"
   ]
  },
  {
   "cell_type": "code",
   "execution_count": null,
   "metadata": {},
   "outputs": [],
   "source": [
    "%config InlineBackend.print_figure_kwargs = {'bbox_inches': None}"
   ]
  },
  {
   "cell_type": "code",
   "execution_count": null,
   "metadata": {},
   "outputs": [],
   "source": [
    "fig"
   ]
  },
  {
   "cell_type": "markdown",
   "metadata": {},
   "source": [
    "That wastes too much space, so let's reset it:"
   ]
  },
  {
   "cell_type": "code",
   "execution_count": null,
   "metadata": {},
   "outputs": [],
   "source": [
    "%config InlineBackend.print_figure_kwargs = {}"
   ]
  },
  {
   "cell_type": "markdown",
   "metadata": {},
   "source": [
    "So far we have used the default figure size:"
   ]
  },
  {
   "cell_type": "code",
   "execution_count": null,
   "metadata": {},
   "outputs": [],
   "source": [
    "plt.rcParams['figure.figsize']"
   ]
  },
  {
   "cell_type": "markdown",
   "metadata": {},
   "source": [
    "We can change the default figure size for the rest of this notebook\n",
    "like this:"
   ]
  },
  {
   "cell_type": "code",
   "execution_count": null,
   "metadata": {},
   "outputs": [],
   "source": [
    "plt.rcParams['figure.figsize'] = 6, 3"
   ]
  },
  {
   "cell_type": "markdown",
   "metadata": {},
   "source": [
    "Alternatively, we could also be set this in the `matplotlibrc` file,\n",
    "which would make it the default for all notebooks in the same directory:\n",
    "\n",
    "    figure.figsize: 6, 3"
   ]
  },
  {
   "cell_type": "code",
   "execution_count": null,
   "metadata": {},
   "outputs": [],
   "source": [
    "plt.plot(data);"
   ]
  },
  {
   "cell_type": "markdown",
   "metadata": {},
   "source": [
    "We can use a different size for an individual figure\n",
    "by using the `figsize` argument when creating the figure."
   ]
  },
  {
   "cell_type": "code",
   "execution_count": null,
   "metadata": {},
   "outputs": [],
   "source": [
    "fig, ax = plt.subplots(figsize=[4, 4])\n",
    "ax.plot(data);"
   ]
  },
  {
   "cell_type": "markdown",
   "metadata": {},
   "source": [
    "The above plots all use the default figure format PNG.\n",
    "\n",
    "We can force a different format using the `%config` magic like this:"
   ]
  },
  {
   "cell_type": "code",
   "execution_count": null,
   "metadata": {},
   "outputs": [],
   "source": [
    "%config InlineBackend.figure_formats = ['png2x']"
   ]
  },
  {
   "cell_type": "code",
   "execution_count": null,
   "metadata": {},
   "outputs": [],
   "source": [
    "plt.plot(data);"
   ]
  },
  {
   "cell_type": "markdown",
   "metadata": {},
   "source": [
    "Please note the use of `['png2x']` instead of `{'png2x'}`, which would cause a very non-obvious error,\n",
    "see https://github.com/ipython/ipython/issues/10920."
   ]
  },
  {
   "cell_type": "markdown",
   "metadata": {},
   "source": [
    "This is still using the PNG format, but with doubled resolution,\n",
    "which might look better on a HiDPI display."
   ]
  },
  {
   "cell_type": "markdown",
   "metadata": {},
   "source": [
    "The marketing term `'retina'` is just an alias for `'png2x'`:"
   ]
  },
  {
   "cell_type": "code",
   "execution_count": null,
   "metadata": {},
   "outputs": [],
   "source": [
    "%config InlineBackend.figure_formats = ['retina']"
   ]
  },
  {
   "cell_type": "code",
   "execution_count": null,
   "metadata": {},
   "outputs": [],
   "source": [
    "plt.plot(data);"
   ]
  },
  {
   "cell_type": "markdown",
   "metadata": {},
   "source": [
    "We can specify more than one format, and the Jupyter client should display the most appropriate one.\n",
    "\n",
    "In the following example we are using SVG (which should be shown in the browser) and PDF (which should be used when exporting to LaTeX/PDF)."
   ]
  },
  {
   "cell_type": "code",
   "execution_count": null,
   "metadata": {},
   "outputs": [],
   "source": [
    "%config InlineBackend.figure_formats = {'svg', 'pdf'}"
   ]
  },
  {
   "cell_type": "code",
   "execution_count": null,
   "metadata": {},
   "outputs": [],
   "source": [
    "plt.plot(data);"
   ]
  },
  {
   "cell_type": "markdown",
   "metadata": {},
   "source": [
    "For historical reference,\n",
    "there are several old issues regarding plot sizes, resolutions and formats:\n",
    "\n",
    "* Different DPI settings in Matplotlib vs. Jupyter notebook: https://github.com/matplotlib/matplotlib/issues/9217\n",
    "\n",
    "* `%matplotlib inline` overwrites previous settings: https://github.com/ipython/ipython/issues/10383\n",
    "\n",
    "* Matplotlib 2.0 changed `figsize` and DPI: https://github.com/ipython/ipython/issues/10128\n",
    "\n",
    "* Different size than \"notebook\" backend: https://github.com/matplotlib/matplotlib/issues/4853\n",
    "\n",
    "* IPython should use Matplotlib \"theme\":\n",
    "  * https://github.com/ipython/ipython/issues/9710\n",
    "  * https://github.com/ipython/ipykernel/issues/267\n",
    "\n",
    "* `nbconvert` error with SVG when exporting to PDF/LaTeX:\n",
    "  https://github.com/jupyter/nbconvert/issues/904,\n",
    "  https://github.com/jupyter/nbconvert/issues/981\n",
    "  * solved in https://github.com/jupyter/nbconvert/pull/985 (`nbconvert` version 5.5),\n",
    "    see also https://github.com/jupyter/nbconvert/pull/910\n",
    "\n",
    "* Wrong display priority on JupyterLab: https://github.com/jupyterlab/jupyterlab/issues/3038, https://github.com/jupyterlab/jupyterlab/issues/6222\n",
    "  * solved in https://github.com/jupyterlab/jupyterlab/pull/6255 (JupyterLab version 1.1)"
   ]
  },
  {
   "cell_type": "markdown",
   "metadata": {},
   "source": [
    "## Changing the Default Format"
   ]
  },
  {
   "cell_type": "markdown",
   "metadata": {},
   "source": [
    "The default plotting format cannot be chosen via `matplotlibrc`,\n",
    "but via your IPython configuration file.\n",
    "Typically, this file is located at `~/.ipython/profile_default/ipython_kernel_config.py`.\n",
    "In case of doubt, you can find your profile directory with this command:\n",
    "\n",
    "    python3 -m IPython profile locate\n",
    "\n",
    "In most cases, plots look best when using the SVG format.\n",
    "To enable SVG plots, use this in your IPython configuration:\n",
    "\n",
    "```python\n",
    "c.InlineBackend.figure_formats = {'svg'}\n",
    "```\n",
    "\n",
    "If you also want to be able to export your notebooks to LaTeX/PDF,\n",
    "you should enable PDF plots on top of that:\n",
    "\n",
    "```python\n",
    "c.InlineBackend.figure_formats = {'svg', 'pdf'}\n",
    "```"
   ]
  },
  {
   "cell_type": "markdown",
   "metadata": {},
   "source": [
    "If you are planning to save your SVG plots as part of your notebooks,\n",
    "you should be aware that an SVG file typically contains a few auto-generated\n",
    "(random-looking) IDs for cross-references between elements.\n",
    "Whenever you re-execute your notebooks, the SVG plots will be re-generated\n",
    "with new, seemingly random IDs.\n",
    "This can be very annoying because the SVG content changes even if the plot itself doesn't change.\n",
    "Luckily, since\n",
    "[Matplotlib 2.0.0](https://matplotlib.org/users/prev_whats_new/whats_new_2.0.0.html#added-svg-hashsalt-key-to-rcparams)\n",
    "there is a configuration parameter to control the generation of those IDs:\n",
    "`svg.hashsalt`.\n",
    "Just set it to whatever string you fancy, and all new IDs will be generated\n",
    "deterministically based on this value.\n",
    "\n",
    "```python\n",
    "c.InlineBackend.figure_formats = {'svg'}\n",
    "c.InlineBackend.rc = {'svg.hashsalt': 'python-audio'}\n",
    "```\n",
    "\n",
    "<div class=\"alert alert-warning\">\n",
    "\n",
    "The downside of this setting is that if more than one file is generated using deterministic identifiers and they end up as parts of one larger document, the identifiers can collide and cause the different parts to affect each other.\n",
    "\n",
    "</div>"
   ]
  },
  {
   "cell_type": "markdown",
   "metadata": {},
   "source": [
    "PDF plots have a similar non-determinism problem.\n",
    "By default, a creation time-stamp is stored in the PDF plot,\n",
    "which of course changes with each re-execution,\n",
    "even if the plot itself didn't change at all.\n",
    "To avoid this, you can disable the creation time-stamp\n",
    "by setting `print_figure_kwargs`:\n",
    "\n",
    "```python\n",
    "c.InlineBackend.figure_formats = {'pdf'}\n",
    "c.InlineBackend.print_figure_kwargs = {'metadata': {'CreationDate': None}}\n",
    "```"
   ]
  }
 ],
 "metadata": {
  "kernelspec": {
   "display_name": "Python 3 (ipykernel)",
   "language": "python",
   "name": "python3"
  },
  "language_info": {
   "codemirror_mode": {
    "name": "ipython",
    "version": 3
   },
   "file_extension": ".py",
   "mimetype": "text/x-python",
   "name": "python",
   "nbconvert_exporter": "python",
   "pygments_lexer": "ipython3",
   "version": "3.10.7"
  }
 },
 "nbformat": 4,
 "nbformat_minor": 4
}
