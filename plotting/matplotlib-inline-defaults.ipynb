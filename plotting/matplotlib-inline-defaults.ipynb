{
 "cells": [
  {
   "cell_type": "markdown",
   "metadata": {},
   "source": [
    "# Default Values for Matplotlib's \"inline\" backend\n",
    "\n",
    "[back to overview page](index.ipynb)"
   ]
  },
  {
   "cell_type": "markdown",
   "metadata": {},
   "source": [
    "Long story short, you should add some things to your IPython configuration file.\n",
    "Typically, this file is located at `~/.ipython/profile_default/ipython_kernel_config.py`.\n",
    "In case of doubt, you can find your profile directory with this command:\n",
    "\n",
    "    python3 -m IPython profile locate\n",
    "\n",
    "If you want to share the settings with your collaborators,\n",
    "you can create a file named `ipython_kernel_config.py`\n",
    "in the directory where your notebooks live.\n",
    "If you are using Git to manage your files,\n",
    "don't forget to commit this local configuration file to your repository.\n",
    "Different directories can have different local configurations.\n",
    "If a given configuration should apply to multiple directories,\n",
    "symbolic links can be created in each directory.\n",
    "\n",
    "In most cases, plots look best when using the SVG format.\n",
    "To enable SVG plots, use this in your IPython configuration:\n",
    "\n",
    "```python\n",
    "c.InlineBackend.figure_formats = {'svg'}\n",
    "```\n",
    "\n",
    "If you also want to export to LaTeX/PDF, you should enable PDF plots on top of that:\n",
    "\n",
    "```python\n",
    "c.InlineBackend.figure_formats = {'svg', 'pdf'}\n",
    "```\n",
    "\n",
    "If you want to keep using the default PNG plots,\n",
    "or if you want to use double resolution HiDPI (a.k.a. `'png2x'`, a.k.a. `'retina'`) plots,\n",
    "you should still change the default DPI (= \"dots per inch\") setting:\n",
    "\n",
    "```python\n",
    "c.InlineBackend.rc = {'figure.dpi': 96}\n",
    "```\n",
    "\n",
    "The default value of 72 DPI is only appropriate for\n",
    "the [Qt Console](https://qtconsole.readthedocs.io/).\n",
    "With a setting of 96 DPI, the PNG plots will have about the same size\n",
    "as the SVG and PDF plots.\n",
    "Also, when properly converted to LaTeX/PDF and printed on paper,\n",
    "the figure size in inch will correspond to the actual size of the plot."
   ]
  },
  {
   "cell_type": "markdown",
   "metadata": {},
   "source": [
    "If you are planning to save your SVG plots as part of your notebooks,\n",
    "you should be aware that an SVG file typically contains a few auto-generated\n",
    "(random-looking) IDs for cross-references between elements.\n",
    "Whenever you re-execute your notebooks, the SVG plots will be re-generated\n",
    "with new, seemingly random IDs.\n",
    "This can be very annoying because the SVG content changes even if the plot itself doesn't change.\n",
    "Luckily, since\n",
    "[Matplotlib 2.0.0](https://matplotlib.org/users/prev_whats_new/whats_new_2.0.0.html#added-svg-hashsalt-key-to-rcparams)\n",
    "there is a configuration parameter to control the generation of those IDs:\n",
    "`'svg.hashsalt'`.\n",
    "Just set it to whatever string you fancy, and all new IDs will be generated\n",
    "deterministically based on this value:\n",
    "\n",
    "```python\n",
    "c.InlineBackend.rc = {\n",
    "    'figure.dpi': 96,\n",
    "    'svg.hashsalt': 'python-audio',\n",
    "}\n",
    "```\n",
    "\n",
    "<div class=\"alert alert-warning\">\n",
    "\n",
    "The downside of this setting is that if more than one file is generated using deterministic identifiers and they end up as parts of one larger document, the identifiers can collide and cause the different parts to affect each other.\n",
    "\n",
    "</div>"
   ]
  },
  {
   "cell_type": "markdown",
   "metadata": {},
   "source": [
    "PDF plots have a similar non-determinism problem.\n",
    "By default, a creation time-stamp is stored in the PDF plot,\n",
    "which of course changes with each re-execution,\n",
    "even if the plot itself didn't change at all.\n",
    "To avoid this, you can disable the creation time-stamp:\n",
    "\n",
    "```python\n",
    "c.InlineBackend.print_figure_kwargs = {'metadata': {'CreationDate': None}}\n",
    "```"
   ]
  },
  {
   "cell_type": "markdown",
   "metadata": {},
   "source": [
    "If you want to make the above settings work on https://mybinder.org/,\n",
    "just put them in a file named\n",
    "`.ipython/profile_default/ipython_kernel_config.py` in your repository.\n",
    "A local `ipython_kernel_config.py` in the same directory as your notebooks\n",
    "also works\n",
    "(and has the advantage that it also works when checking it out locally).\n",
    "\n",
    "If you want to make those settings work with `nbsphinx`, have a look at https://nbsphinx.readthedocs.io/en/latest/code-cells.html#Plots.\n",
    "\n",
    "This is all you really need to know, but if you want to read about a few more details, just keep reading.\n",
    "\n",
    "You might also be interested in [Getting Started with Matplotlib](matplotlib.ipynb)."
   ]
  },
  {
   "cell_type": "markdown",
   "metadata": {},
   "source": [
    "## Details\n",
    "\n",
    "The settings of Matplotlib, IPython and Jupyter notebook tend to change from time to time.\n",
    "Therefore, the information in this notebook might be outdated.\n",
    "This is the date when it was last executed:"
   ]
  },
  {
   "cell_type": "code",
   "execution_count": null,
   "metadata": {},
   "outputs": [],
   "source": [
    "!date +%F"
   ]
  },
  {
   "cell_type": "markdown",
   "metadata": {},
   "source": [
    "If that's more than a few months in the past, you should probably not read the rest of this notebook."
   ]
  },
  {
   "cell_type": "markdown",
   "metadata": {},
   "source": [
    "You might have noticed that Matplotlib \"inline\" plots in the Jupyter notebook\n",
    "are too small by default.\n",
    "\n",
    "That's because the IPython kernel overwrites the plot resolution to be 72 DPI (= \"dots per inch\").\n",
    "This is appropriate for the [Qt Console](https://qtconsole.readthedocs.io/),\n",
    "but it's too small for the Jupyter notebook.\n",
    "\n",
    "When using 96 DPI for PNG plots, those are displayed in the same size as SVG plots in the browser.\n",
    "And they are the same size as PDF plots when used in LaTeX.\n",
    "\n",
    "The resolution can be changed with the `'figure.dpi'` setting as shown above.\n",
    "\n",
    "Note that the actual *size* of the plots (in inches) can still be influenced with the `figsize` option."
   ]
  },
  {
   "cell_type": "markdown",
   "metadata": {},
   "source": [
    "There are several documented issues regarding plot sizes and resolutions:\n",
    "\n",
    "* Different DPI settings in Matplotlib vs. Jupyter notebook: https://github.com/matplotlib/matplotlib/issues/9217\n",
    "\n",
    "* `%matplotlib inline` overwrites previous settings: https://github.com/ipython/ipython/issues/10383\n",
    "\n",
    "* Matplotlib 2.0 changed `figsize` and DPI: https://github.com/ipython/ipython/issues/10128\n",
    "\n",
    "* Different size than \"notebook\" backend: https://github.com/matplotlib/matplotlib/issues/4853\n",
    "\n",
    "* IPython should use Matplotlib \"theme\":\n",
    "  * https://github.com/ipython/ipython/issues/9710\n",
    "  * https://github.com/ipython/ipykernel/issues/267"
   ]
  },
  {
   "cell_type": "code",
   "execution_count": null,
   "metadata": {},
   "outputs": [],
   "source": [
    "import matplotlib.pyplot as plt"
   ]
  },
  {
   "cell_type": "code",
   "execution_count": null,
   "metadata": {},
   "outputs": [],
   "source": [
    "data = 4, 9, 7, 20, 6, 33, 13, 23, 16, 62, 8"
   ]
  },
  {
   "cell_type": "code",
   "execution_count": null,
   "metadata": {},
   "outputs": [],
   "source": [
    "plt.plot(data);"
   ]
  },
  {
   "cell_type": "markdown",
   "metadata": {},
   "source": [
    "The size, format and resolution of the plot will depend on the settings\n",
    "of the system where the notebook was executed\n",
    "and whether it was converted to LaTeX/PDF or not (if there are multiple figure formats).\n",
    "\n",
    "You can check the current settings like this:"
   ]
  },
  {
   "cell_type": "code",
   "execution_count": null,
   "metadata": {},
   "outputs": [],
   "source": [
    "%config InlineBackend.figure_formats"
   ]
  },
  {
   "cell_type": "code",
   "execution_count": null,
   "metadata": {},
   "outputs": [],
   "source": [
    "plt.rcParams['figure.figsize']"
   ]
  },
  {
   "cell_type": "code",
   "execution_count": null,
   "metadata": {},
   "outputs": [],
   "source": [
    "plt.rcParams['figure.dpi']"
   ]
  },
  {
   "cell_type": "markdown",
   "metadata": {},
   "source": [
    "We can choose the desired figure size with the `figsize` option:"
   ]
  },
  {
   "cell_type": "code",
   "execution_count": null,
   "metadata": {},
   "outputs": [],
   "source": [
    "plt.rcParams['figure.figsize'] = 6, 3"
   ]
  },
  {
   "cell_type": "code",
   "execution_count": null,
   "metadata": {},
   "outputs": [],
   "source": [
    "plt.plot(data);"
   ]
  },
  {
   "cell_type": "markdown",
   "metadata": {},
   "source": [
    "If you set `'figure.figsize'` in the `rcParams`,\n",
    "this setting will be used for the rest of the notebook.\n",
    "\n",
    "You can use a different size for an individual figure\n",
    "by using the `figsize` argument when creating the figure."
   ]
  },
  {
   "cell_type": "code",
   "execution_count": null,
   "metadata": {},
   "outputs": [],
   "source": [
    "fig, ax = plt.subplots(figsize=[4, 4])\n",
    "ax.plot(data);"
   ]
  },
  {
   "cell_type": "markdown",
   "metadata": {},
   "source": [
    "The above plots still use the default figure format (which may be different on your system).\n",
    "\n",
    "We can force a certain format using the `%config` magic like this:"
   ]
  },
  {
   "cell_type": "code",
   "execution_count": null,
   "metadata": {},
   "outputs": [],
   "source": [
    "%config InlineBackend.figure_formats = ['png']"
   ]
  },
  {
   "cell_type": "code",
   "execution_count": null,
   "metadata": {},
   "outputs": [],
   "source": [
    "plt.plot(data);"
   ]
  },
  {
   "cell_type": "markdown",
   "metadata": {},
   "source": [
    "Please note the use of `['png']` instead of `{'png'}`, which would cause a very non-obvious error,\n",
    "see https://github.com/ipython/ipython/issues/10920."
   ]
  },
  {
   "cell_type": "markdown",
   "metadata": {},
   "source": [
    "We can specify more than one format, and the Jupyter client should display the most appropriate one.\n",
    "\n",
    "In the following example we are using SVG (which should be shown in the browser) and PDF (which should be used when exporting to LaTeX/PDF)."
   ]
  },
  {
   "cell_type": "code",
   "execution_count": null,
   "metadata": {},
   "outputs": [],
   "source": [
    "%config InlineBackend.figure_formats = {'svg', 'pdf'}"
   ]
  },
  {
   "cell_type": "code",
   "execution_count": null,
   "metadata": {},
   "outputs": [],
   "source": [
    "plt.plot(data);"
   ]
  },
  {
   "cell_type": "markdown",
   "metadata": {},
   "source": [
    "Again, there may be some issues:\n",
    "\n",
    "* `nbconvert` error with SVG when exporting to PDF/LaTeX:\n",
    "  https://github.com/jupyter/nbconvert/issues/904,\n",
    "  https://github.com/jupyter/nbconvert/issues/981\n",
    "  * solved in https://github.com/jupyter/nbconvert/pull/985 (`nbconvert` version 5.5),\n",
    "    see also https://github.com/jupyter/nbconvert/pull/910\n",
    "\n",
    "* Wrong display priority on JupyterLab: https://github.com/jupyterlab/jupyterlab/issues/3038, https://github.com/jupyterlab/jupyterlab/issues/6222\n",
    "  * solved in https://github.com/jupyterlab/jupyterlab/pull/6255 (JupyterLab version 1.1)"
   ]
  },
  {
   "cell_type": "markdown",
   "metadata": {},
   "source": [
    "If you have a HiDPI display, there is an option to double the resolution.\n",
    "\n",
    "This also looks nice when exporting to LaTeX/PDF\n",
    "(if you for some reason don't want to use PDF plots)."
   ]
  },
  {
   "cell_type": "code",
   "execution_count": null,
   "metadata": {},
   "outputs": [],
   "source": [
    "%config InlineBackend.figure_formats = ['retina']"
   ]
  },
  {
   "cell_type": "code",
   "execution_count": null,
   "metadata": {},
   "outputs": [],
   "source": [
    "plt.plot(data);"
   ]
  },
  {
   "cell_type": "markdown",
   "metadata": {},
   "source": [
    "The marketing term `'retina'` is just an alias for `'png2x'`:"
   ]
  },
  {
   "cell_type": "code",
   "execution_count": null,
   "metadata": {},
   "outputs": [],
   "source": [
    "%config InlineBackend.figure_formats = ['png2x']"
   ]
  },
  {
   "cell_type": "code",
   "execution_count": null,
   "metadata": {},
   "outputs": [],
   "source": [
    "plt.plot(data);"
   ]
  },
  {
   "cell_type": "markdown",
   "metadata": {},
   "source": [
    "There is a separate DPI setting for saving a plot to a file.\n",
    "By default, this should be the same as `'figure.dpi'`."
   ]
  },
  {
   "cell_type": "code",
   "execution_count": null,
   "metadata": {},
   "outputs": [],
   "source": [
    "plt.rcParams['savefig.dpi']"
   ]
  },
  {
   "cell_type": "code",
   "execution_count": null,
   "metadata": {},
   "outputs": [],
   "source": [
    "fig, ax = plt.subplots()\n",
    "ax.plot(data)\n",
    "fig.savefig('myfigure01.png')\n",
    "plt.close(fig)"
   ]
  },
  {
   "cell_type": "markdown",
   "metadata": {},
   "source": [
    "The saved figure can be used in a Markdown cell like this:\n",
    "\n",
    "    ![an example plot](myfigure01.png)\n",
    "\n",
    "And it should be shown here:\n",
    "\n",
    "![an example plot](myfigure01.png)"
   ]
  },
  {
   "cell_type": "markdown",
   "metadata": {},
   "source": [
    "You might notice that the saved image has a larger white margin around the figure than what is visible in the previous plots.\n",
    "This is because by default, IPython uses the `'tight'` setting for `bbox_inches`.\n",
    "\n",
    "If you prefer the additional white margin, you can set this to `None`:"
   ]
  },
  {
   "cell_type": "code",
   "execution_count": null,
   "metadata": {},
   "outputs": [],
   "source": [
    "%config InlineBackend.print_figure_kwargs = {'bbox_inches': None}"
   ]
  },
  {
   "cell_type": "code",
   "execution_count": null,
   "metadata": {},
   "outputs": [],
   "source": [
    "fig"
   ]
  },
  {
   "cell_type": "markdown",
   "metadata": {},
   "source": [
    "IPython overrides a few Matplotlib default settings.\n",
    "this can be seen here:\n",
    "\n",
    "https://github.com/ipython/matplotlib-inline/blob/0.1.3/matplotlib_inline/config.py#L35-L54\n",
    "\n",
    "```python\n",
    "    # The typical default figure size is too large for inline use,\n",
    "    # so we shrink the figure size to 6x4, and tweak fonts to\n",
    "    # make that fit.\n",
    "    \n",
    "    # [...]\n",
    "        {\n",
    "            'figure.figsize': (6.0, 4.0),\n",
    "            # play nicely with white background in the Qt and notebook frontend\n",
    "            'figure.facecolor': (1, 1, 1, 0),\n",
    "            'figure.edgecolor': (1, 1, 1, 0),\n",
    "            # 12pt labels get cutoff on 6x4 logplots, so use 10pt.\n",
    "            'font.size': 10,\n",
    "            # 72 dpi matches SVG/qtconsole\n",
    "            # this only affects PNG export, as SVG has no dpi setting\n",
    "            'figure.dpi': 72,\n",
    "            # 10pt still needs a little more room on the xlabel:\n",
    "            'figure.subplot.bottom': .125\n",
    "        }\n",
    "```\n",
    "\n",
    "These custom settings were added in 2011\n",
    "(see [fd681b5](https://github.com/ipython/ipykernel/commit/fd681b509c1f7706fd6af8d28dbae437ad411ed6)\n",
    "and [0459299](https://github.com/ipython/ipykernel/commit/0459299e215abd7ec7c8f93ca0771b26a6ac6b40)).\n",
    "This was before [the notebook interface was released](https://ipython.org/ipython-doc/dev/whatsnew/version0.12.html#an-interactive-browser-based-notebook-with-rich-media-support),\n",
    "so it is no wonder that the `'figure.dpi'` setting is not appropriate for it.\n",
    "At a later point, this\n",
    "[has been moved](https://github.com/ipython/matplotlib-inline/commit/acaefc0c27b04fc83e312d92dd8c805ea362f611)\n",
    "from\n",
    "[its original location](https://github.com/ipython/ipykernel/blob/5.1.0/ipykernel/pylab/config.py#L42-L59)\n",
    "to the separate\n",
    "[matplotlib-inline](https://github.com/ipython/matplotlib-inline) project.\n",
    "\n",
    "Here are Matplotlib's current default values for reference:"
   ]
  },
  {
   "cell_type": "code",
   "execution_count": null,
   "metadata": {},
   "outputs": [],
   "source": [
    "plt.rcParamsDefault['figure.figsize']"
   ]
  },
  {
   "cell_type": "code",
   "execution_count": null,
   "metadata": {},
   "outputs": [],
   "source": [
    "plt.rcParamsDefault['figure.facecolor']"
   ]
  },
  {
   "cell_type": "code",
   "execution_count": null,
   "metadata": {},
   "outputs": [],
   "source": [
    "plt.rcParamsDefault['figure.edgecolor']"
   ]
  },
  {
   "cell_type": "code",
   "execution_count": null,
   "metadata": {},
   "outputs": [],
   "source": [
    "plt.rcParamsDefault['font.size']"
   ]
  },
  {
   "cell_type": "code",
   "execution_count": null,
   "metadata": {},
   "outputs": [],
   "source": [
    "plt.rcParamsDefault['figure.dpi']"
   ]
  },
  {
   "cell_type": "code",
   "execution_count": null,
   "metadata": {},
   "outputs": [],
   "source": [
    "plt.rcParamsDefault['figure.subplot.bottom']"
   ]
  },
  {
   "cell_type": "markdown",
   "metadata": {},
   "source": [
    "## Using a `matplotlibrc` file\n",
    "\n",
    "\n",
    "All aforementioned settings from `InlineBackend.rc`\n",
    "could theoretically be specified in a `matplotlibrc` file instead.\n",
    "This file should be located in the same directory as the notebook you want it to apply to,\n",
    "or in one of the configuration directories mentioned in the\n",
    "[Matplotlib docs](https://matplotlib.org/tutorials/introductory/customizing.html#the-matplotlibrc-file).\n",
    "\n",
    "For example, the content of the `matplotlibrc` file could look like this:\n",
    "\n",
    "```\n",
    "figure.dpi: 96\n",
    "figure.figsize: 6, 3\n",
    "svg.hashsalt: python-audio\n",
    "```\n",
    "\n",
    "Unfortunately, even though these settings will be loaded,\n",
    "the will immediately be overwritten by IPython's\n",
    "default `InlineBackend.rc` configuration.\n",
    "To avoid this, add the following line to your\n",
    "`ipython_kernel_config.py`:\n",
    "\n",
    "```python\n",
    "c.InlineBackend.rc = {}\n",
    "```"
   ]
  }
 ],
 "metadata": {
  "kernelspec": {
   "display_name": "Python 3",
   "language": "python",
   "name": "python3"
  },
  "language_info": {
   "codemirror_mode": {
    "name": "ipython",
    "version": 3
   },
   "file_extension": ".py",
   "mimetype": "text/x-python",
   "name": "python",
   "nbconvert_exporter": "python",
   "pygments_lexer": "ipython3",
   "version": "3.9.2"
  }
 },
 "nbformat": 4,
 "nbformat_minor": 4
}
