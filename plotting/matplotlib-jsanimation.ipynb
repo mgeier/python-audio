{
 "cells": [
  {
   "cell_type": "markdown",
   "metadata": {},
   "source": [
    "# Creating JavaScript-based Animations\n",
    "\n",
    "[JSAnimation](https://github.com/jakevdp/JSAnimation)\n",
    "\n",
    "At some point, this will be a part of matplotlib, see https://github.com/matplotlib/matplotlib/pull/4821.\n",
    "\n",
    "UPDATE: This is now part of matplotlib (since version 2.1): [matplotlib.animation.Animation.to_jshtml()](https://matplotlib.org/api/_as_gen/matplotlib.animation.Animation.html#matplotlib.animation.Animation.to_jshtml)."
   ]
  }
 ],
 "metadata": {
  "kernelspec": {
   "display_name": "Python 3",
   "language": "python",
   "name": "python3"
  },
  "language_info": {
   "codemirror_mode": {
    "name": "ipython",
    "version": 3
   },
   "file_extension": ".py",
   "mimetype": "text/x-python",
   "name": "python",
   "nbconvert_exporter": "python",
   "pygments_lexer": "ipython3",
   "version": "3.7.4"
  }
 },
 "nbformat": 4,
 "nbformat_minor": 1
}
