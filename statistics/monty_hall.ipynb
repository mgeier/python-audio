{
 "cells": [
  {
   "cell_type": "markdown",
   "metadata": {},
   "source": [
    "The [Monty Hall Problem](https://en.wikipedia.org/wiki/Monty_Hall_problem) is totally unintuitive.\n",
    "\n",
    "To illustrate the problem, I tried to create a program that just repeats the thing many times, showing that in the end the theoretical solution is indeed also happening \"in practice\".\n",
    "\n",
    "But as soon as I was writing this, it got so obvious that it's not even necessary to run the program anymore.\n",
    "\n",
    "* If you guessed right and you switch, you loose, if you don't switch you win.\n",
    "* If you guessed wrong and you switch, you win, if you don't switch you loose.\n",
    "\n",
    "Guessing wrong is twice as likely ($\\frac{2}{3}$ vs. $\\frac{1}{3}$), so if you switch, you will also win twice as likely."
   ]
  },
  {
   "cell_type": "code",
   "execution_count": 1,
   "metadata": {
    "collapsed": false
   },
   "outputs": [],
   "source": [
    "from random import randint\n",
    "\n",
    "def monty(N):\n",
    "    # win1 .. number of wins when not switching\n",
    "    # win2 .. number of wins when switching\n",
    "    win1 = win2 = 0\n",
    "    for i in range(N):\n",
    "        price = randint(1, 3)\n",
    "        guess = randint(1, 3)\n",
    "        if price == guess:\n",
    "            # we win if we don't switch\n",
    "            win1 += 1\n",
    "        else:\n",
    "            # we win if we switch\n",
    "            win2 += 1\n",
    "    print(\"repetitions: {}, wins w/o switching: {} %, wins with switching: {} %\".format(N, win1/N*100, win2/N*100))"
   ]
  },
  {
   "cell_type": "code",
   "execution_count": 2,
   "metadata": {
    "collapsed": false
   },
   "outputs": [
    {
     "name": "stdout",
     "output_type": "stream",
     "text": [
      "repetitions: 100000, wins w/o switching: 33.326 %, wins with switching: 66.674 %\n"
     ]
    }
   ],
   "source": [
    "monty(100000)"
   ]
  },
  {
   "cell_type": "markdown",
   "metadata": {},
   "source": [
    "<p xmlns:dct=\"http://purl.org/dc/terms/\">\n",
    "  <a rel=\"license\"\n",
    "     href=\"http://creativecommons.org/publicdomain/zero/1.0/\">\n",
    "    <img src=\"http://i.creativecommons.org/p/zero/1.0/88x31.png\" style=\"border-style: none;\" alt=\"CC0\" />\n",
    "  </a>\n",
    "  <br />\n",
    "  To the extent possible under law,\n",
    "  <span rel=\"dct:publisher\" resource=\"[_:publisher]\">the person who associated CC0</span>\n",
    "  with this work has waived all copyright and related or neighboring\n",
    "  rights to this work.\n",
    "</p>"
   ]
  }
 ],
 "metadata": {
  "kernelspec": {
   "display_name": "Python 3",
   "language": "python",
   "name": "python3"
  },
  "language_info": {
   "codemirror_mode": {
    "name": "ipython",
    "version": 3
   },
   "file_extension": ".py",
   "mimetype": "text/x-python",
   "name": "python",
   "nbconvert_exporter": "python",
   "pygments_lexer": "ipython3",
   "version": "3.4.3+"
  }
 },
 "nbformat": 4,
 "nbformat_minor": 0
}
