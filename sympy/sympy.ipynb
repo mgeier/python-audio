{
 "cells": [
  {
   "cell_type": "markdown",
   "metadata": {},
   "source": [
    "# Some Random SymPy Stuff"
   ]
  },
  {
   "cell_type": "code",
   "execution_count": 1,
   "metadata": {},
   "outputs": [],
   "source": [
    "import sympy as sp\n",
    "sp.init_printing()\n",
    "\n",
    "# for older SymPy versions:\n",
    "#%load_ext sympy.interactive.ipythonprinting\n",
    "\n",
    "# for even older IPython/SymPy versions:\n",
    "#%load_ext sympyprinting"
   ]
  },
  {
   "cell_type": "code",
   "execution_count": 2,
   "metadata": {},
   "outputs": [],
   "source": [
    "x, y = sp.symbols(\"x y\")"
   ]
  },
  {
   "cell_type": "code",
   "execution_count": 3,
   "metadata": {},
   "outputs": [
    {
     "data": {
      "image/png": "[encoded data removed]",
      "text/latex": [
       "$$\\left(x + \\pi\\right)^{2}$$"
      ],
      "text/plain": [
       "       2\n",
       "(x + π) "
      ]
     },
     "execution_count": 3,
     "metadata": {},
     "output_type": "execute_result"
    }
   ],
   "source": [
    "(sp.pi + x) ** 2"
   ]
  },
  {
   "cell_type": "code",
   "execution_count": 4,
   "metadata": {},
   "outputs": [
    {
     "data": {
      "image/png": "[encoded data removed]",
      "text/latex": [
       "$$\\left(x + 1\\right) \\left(x + y\\right)^{2}$$"
      ],
      "text/plain": [
       "               2\n",
       "(x + 1)⋅(x + y) "
      ]
     },
     "execution_count": 4,
     "metadata": {},
     "output_type": "execute_result"
    }
   ],
   "source": [
    "expr = ((x + y)**2 * (x + 1))\n",
    "expr"
   ]
  },
  {
   "cell_type": "code",
   "execution_count": 5,
   "metadata": {},
   "outputs": [
    {
     "data": {
      "image/png": "[encoded data removed]",
      "text/latex": [
       "$$x^{3} + 2 x^{2} y + x^{2} + x y^{2} + 2 x y + y^{2}$$"
      ],
      "text/plain": [
       " 3      2      2      2            2\n",
       "x  + 2⋅x ⋅y + x  + x⋅y  + 2⋅x⋅y + y "
      ]
     },
     "execution_count": 5,
     "metadata": {},
     "output_type": "execute_result"
    }
   ],
   "source": [
    "sp.expand(expr)"
   ]
  },
  {
   "cell_type": "code",
   "execution_count": 6,
   "metadata": {},
   "outputs": [
    {
     "data": {
      "image/png": "[encoded data removed]",
      "text/latex": [
       "$$- \\frac{4 x \\cos{\\left (x^{2} \\right )}}{x + 1} \\sin{\\left (x^{2} \\right )} - \\frac{\\cos^{2}{\\left (x^{2} \\right )}}{\\left(x + 1\\right)^{2}}$$"
      ],
      "text/plain": [
       "         ⎛ 2⎞    ⎛ 2⎞      2⎛ 2⎞\n",
       "  4⋅x⋅sin⎝x ⎠⋅cos⎝x ⎠   cos ⎝x ⎠\n",
       "- ─────────────────── - ────────\n",
       "         x + 1                 2\n",
       "                        (x + 1) "
      ]
     },
     "execution_count": 6,
     "metadata": {},
     "output_type": "execute_result"
    }
   ],
   "source": [
    "sp.diff(sp.cos(x**2)**2 / (1 + x), x)"
   ]
  },
  {
   "cell_type": "code",
   "execution_count": 7,
   "metadata": {},
   "outputs": [
    {
     "data": {
      "image/png": "[encoded data removed]",
      "text/latex": [
       "$$\\mathrm{True}$$"
      ],
      "text/plain": [
       "True"
      ]
     },
     "execution_count": 7,
     "metadata": {},
     "output_type": "execute_result"
    }
   ],
   "source": [
    "x = sp.symbols('x', positive=True)\n",
    "x > 0"
   ]
  },
  {
   "cell_type": "code",
   "execution_count": 8,
   "metadata": {},
   "outputs": [
    {
     "data": {
      "image/png": "[encoded data removed]",
      "text/latex": [
       "$$x$$"
      ],
      "text/plain": [
       "x"
      ]
     },
     "execution_count": 8,
     "metadata": {},
     "output_type": "execute_result"
    }
   ],
   "source": [
    "sp.sqrt(x ** 2)"
   ]
  },
  {
   "cell_type": "code",
   "execution_count": 9,
   "metadata": {},
   "outputs": [
    {
     "data": {
      "image/png": "[encoded data removed]",
      "text/latex": [
       "$$\\sqrt{y^{2}}$$"
      ],
      "text/plain": [
       "   ____\n",
       "  ╱  2 \n",
       "╲╱  y  "
      ]
     },
     "execution_count": 9,
     "metadata": {},
     "output_type": "execute_result"
    }
   ],
   "source": [
    "sp.sqrt(y ** 2)"
   ]
  },
  {
   "cell_type": "code",
   "execution_count": 10,
   "metadata": {},
   "outputs": [
    {
     "data": {
      "image/png": "[encoded data removed]",
      "text/latex": [
       "$$-1$$"
      ],
      "text/plain": [
       "-1"
      ]
     },
     "execution_count": 10,
     "metadata": {},
     "output_type": "execute_result"
    }
   ],
   "source": [
    "sp.exp(sp.I * sp.pi)"
   ]
  },
  {
   "cell_type": "code",
   "execution_count": 11,
   "metadata": {},
   "outputs": [
    {
     "data": {
      "image/png": "[encoded data removed]",
      "text/latex": [
       "$$\\infty$$"
      ],
      "text/plain": [
       "∞"
      ]
     },
     "execution_count": 11,
     "metadata": {},
     "output_type": "execute_result"
    }
   ],
   "source": [
    "sp.oo"
   ]
  },
  {
   "cell_type": "code",
   "execution_count": 12,
   "metadata": {},
   "outputs": [],
   "source": [
    "a, b, c = sp.symbols(\"a, b, c\")"
   ]
  },
  {
   "cell_type": "code",
   "execution_count": 13,
   "metadata": {},
   "outputs": [
    {
     "data": {
      "image/png": "[encoded data removed]",
      "text/latex": [
       "$$\\sin{\\left (a + b \\right )}$$"
      ],
      "text/plain": [
       "sin(a + b)"
      ]
     },
     "execution_count": 13,
     "metadata": {},
     "output_type": "execute_result"
    }
   ],
   "source": [
    "sp.expand(sp.sin(a + b))"
   ]
  },
  {
   "cell_type": "code",
   "execution_count": 14,
   "metadata": {},
   "outputs": [
    {
     "data": {
      "image/png": "[encoded data removed]",
      "text/latex": [
       "$$\\sin{\\left (a \\right )} \\cos{\\left (b \\right )} + \\sin{\\left (b \\right )} \\cos{\\left (a \\right )}$$"
      ],
      "text/plain": [
       "sin(a)⋅cos(b) + sin(b)⋅cos(a)"
      ]
     },
     "execution_count": 14,
     "metadata": {},
     "output_type": "execute_result"
    }
   ],
   "source": [
    "sp.expand(sp.sin(a + b), trig=True)"
   ]
  },
  {
   "cell_type": "code",
   "execution_count": 15,
   "metadata": {},
   "outputs": [
    {
     "data": {
      "image/png": "[encoded data removed]",
      "text/latex": [
       "$$1$$"
      ],
      "text/plain": [
       "1"
      ]
     },
     "execution_count": 15,
     "metadata": {},
     "output_type": "execute_result"
    }
   ],
   "source": [
    "sp.simplify(sp.sin(x)**2 + sp.cos(x)**2)"
   ]
  },
  {
   "cell_type": "code",
   "execution_count": 16,
   "metadata": {},
   "outputs": [
    {
     "data": {
      "image/png": "[encoded data removed]",
      "text/latex": [
       "$$\\left(x + 1\\right) \\left(x + 2\\right) \\left(x + 3\\right)$$"
      ],
      "text/plain": [
       "(x + 1)⋅(x + 2)⋅(x + 3)"
      ]
     },
     "execution_count": 16,
     "metadata": {},
     "output_type": "execute_result"
    }
   ],
   "source": [
    "sp.factor(x**3 + 6 * x**2 + 11*x + 6)"
   ]
  },
  {
   "cell_type": "code",
   "execution_count": 17,
   "metadata": {},
   "outputs": [
    {
     "data": {
      "image/png": "[encoded data removed]",
      "text/latex": [
       "$$\\frac{1}{\\tan{\\left (x \\right )}}$$"
      ],
      "text/plain": [
       "  1   \n",
       "──────\n",
       "tan(x)"
      ]
     },
     "execution_count": 17,
     "metadata": {},
     "output_type": "execute_result"
    }
   ],
   "source": [
    "sp.simplify(sp.cos(x) / sp.sin(x))"
   ]
  },
  {
   "cell_type": "code",
   "execution_count": 18,
   "metadata": {},
   "outputs": [
    {
     "data": {
      "image/png": "[encoded data removed]",
      "text/latex": [
       "$$\\frac{1}{\\left(a + 1\\right) \\left(a + 2\\right)}$$"
      ],
      "text/plain": [
       "       1       \n",
       "───────────────\n",
       "(a + 1)⋅(a + 2)"
      ]
     },
     "execution_count": 18,
     "metadata": {},
     "output_type": "execute_result"
    }
   ],
   "source": [
    "expr1 = 1 / ((a + 1) * (a + 2))\n",
    "expr1"
   ]
  },
  {
   "cell_type": "code",
   "execution_count": 19,
   "metadata": {},
   "outputs": [
    {
     "data": {
      "text/plain": [
       "True"
      ]
     },
     "execution_count": 19,
     "metadata": {},
     "output_type": "execute_result"
    }
   ],
   "source": [
    "expr1.is_rational_function()"
   ]
  },
  {
   "cell_type": "code",
   "execution_count": 20,
   "metadata": {},
   "outputs": [
    {
     "data": {
      "image/png": "[encoded data removed]",
      "text/latex": [
       "$$- \\frac{1}{a + 2} + \\frac{1}{a + 1}$$"
      ],
      "text/plain": [
       "    1       1  \n",
       "- ───── + ─────\n",
       "  a + 2   a + 1"
      ]
     },
     "execution_count": 20,
     "metadata": {},
     "output_type": "execute_result"
    }
   ],
   "source": [
    "sp.apart(expr1)"
   ]
  },
  {
   "cell_type": "code",
   "execution_count": 21,
   "metadata": {},
   "outputs": [],
   "source": [
    "z = sp.symbols('z')"
   ]
  },
  {
   "cell_type": "code",
   "execution_count": 22,
   "metadata": {},
   "outputs": [
    {
     "data": {
      "image/png": "[encoded data removed]",
      "text/latex": [
       "$$\\sin{\\left (x y \\right )} + \\cos{\\left (y z \\right )}$$"
      ],
      "text/plain": [
       "sin(x⋅y) + cos(y⋅z)"
      ]
     },
     "execution_count": 22,
     "metadata": {},
     "output_type": "execute_result"
    }
   ],
   "source": [
    "f = sp.sin(x * y) + sp.cos(y * z)\n",
    "f"
   ]
  },
  {
   "cell_type": "code",
   "execution_count": 23,
   "metadata": {},
   "outputs": [
    {
     "data": {
      "image/png": "[encoded data removed]",
      "text/latex": [
       "$$x \\cos{\\left (y z \\right )} + \\begin{cases} 0 & \\text{for}\\: y = 0 \\\\- \\frac{1}{y} \\cos{\\left (x y \\right )} & \\text{otherwise} \\end{cases}$$"
      ],
      "text/plain": [
       "             ⎛⎧    0       for y = 0⎞\n",
       "             ⎜⎪                     ⎟\n",
       "x⋅cos(y⋅z) + ⎜⎨-cos(x⋅y)            ⎟\n",
       "             ⎜⎪──────────  otherwise⎟\n",
       "             ⎝⎩    y                ⎠"
      ]
     },
     "execution_count": 23,
     "metadata": {},
     "output_type": "execute_result"
    }
   ],
   "source": [
    "sp.integrate(f, x)"
   ]
  },
  {
   "cell_type": "code",
   "execution_count": 24,
   "metadata": {},
   "outputs": [
    {
     "data": {
      "image/png": "[encoded data removed]",
      "text/latex": [
       "$$\\begin{cases} y & \\text{for}\\: z = 0 \\\\\\frac{1}{z} \\sin{\\left (y z \\right )} & \\text{otherwise} \\end{cases} - \\frac{1}{x} \\cos{\\left (x y \\right )}$$"
      ],
      "text/plain": [
       "⎛⎧   y      for z = 0⎞           \n",
       "⎜⎪                   ⎟   cos(x⋅y)\n",
       "⎜⎨sin(y⋅z)           ⎟ - ────────\n",
       "⎜⎪────────  otherwise⎟      x    \n",
       "⎝⎩   z               ⎠           "
      ]
     },
     "execution_count": 24,
     "metadata": {},
     "output_type": "execute_result"
    }
   ],
   "source": [
    "sp.integrate(f, y)"
   ]
  },
  {
   "cell_type": "code",
   "execution_count": 25,
   "metadata": {},
   "outputs": [
    {
     "data": {
      "image/png": "[encoded data removed]",
      "text/latex": [
       "$$\\frac{\\sqrt{\\pi}}{2} \\operatorname{erf}{\\left (x \\right )}$$"
      ],
      "text/plain": [
       "√π⋅erf(x)\n",
       "─────────\n",
       "    2    "
      ]
     },
     "execution_count": 25,
     "metadata": {},
     "output_type": "execute_result"
    }
   ],
   "source": [
    "sp.integrate(sp.exp(-x**2), x)"
   ]
  },
  {
   "cell_type": "code",
   "execution_count": 26,
   "metadata": {},
   "outputs": [
    {
     "data": {
      "image/png": "[encoded data removed]",
      "text/latex": [
       "$$\\sqrt{\\pi}$$"
      ],
      "text/plain": [
       "√π"
      ]
     },
     "execution_count": 26,
     "metadata": {},
     "output_type": "execute_result"
    }
   ],
   "source": [
    "sp.integrate(sp.exp(-x**2), (x, -sp.oo, sp.oo))"
   ]
  },
  {
   "cell_type": "code",
   "execution_count": 27,
   "metadata": {},
   "outputs": [
    {
     "data": {
      "image/png": "[encoded data removed]",
      "text/latex": [
       "$$\\frac{x^{2}}{2} + \\cosh{\\left (x \\right )}$$"
      ],
      "text/plain": [
       " 2          \n",
       "x           \n",
       "── + cosh(x)\n",
       "2           "
      ]
     },
     "execution_count": 27,
     "metadata": {},
     "output_type": "execute_result"
    }
   ],
   "source": [
    "sp.integrate(x + sp.sinh(x), x)"
   ]
  },
  {
   "cell_type": "code",
   "execution_count": 28,
   "metadata": {},
   "outputs": [
    {
     "data": {
      "image/png": "[encoded data removed]",
      "text/latex": [
       "$$x + \\sinh{\\left (x \\right )}$$"
      ],
      "text/plain": [
       "x + sinh(x)"
      ]
     },
     "execution_count": 28,
     "metadata": {},
     "output_type": "execute_result"
    }
   ],
   "source": [
    "sp.diff(_, x)"
   ]
  },
  {
   "cell_type": "code",
   "execution_count": 29,
   "metadata": {},
   "outputs": [
    {
     "data": {
      "image/png": "[encoded data removed]",
      "text/latex": [
       "$$\\pi$$"
      ],
      "text/plain": [
       "π"
      ]
     },
     "execution_count": 29,
     "metadata": {},
     "output_type": "execute_result"
    }
   ],
   "source": [
    "sp.limit(sp.sin(sp.pi * x) / x, x, 0)"
   ]
  },
  {
   "cell_type": "code",
   "execution_count": 30,
   "metadata": {},
   "outputs": [
    {
     "data": {
      "image/png": "[encoded data removed]",
      "text/latex": [
       "$$\\pi$$"
      ],
      "text/plain": [
       "π"
      ]
     },
     "execution_count": 30,
     "metadata": {},
     "output_type": "execute_result"
    }
   ],
   "source": [
    "4 * sp.atan(1)"
   ]
  },
  {
   "cell_type": "code",
   "execution_count": 31,
   "metadata": {},
   "outputs": [],
   "source": [
    "n = sp.symbols('n')"
   ]
  },
  {
   "cell_type": "code",
   "execution_count": 32,
   "metadata": {},
   "outputs": [
    {
     "data": {
      "image/png": "[encoded data removed]",
      "text/latex": [
       "$$\\frac{\\left(-1\\right)^{n}}{2 n + 1}$$"
      ],
      "text/plain": [
       "     n \n",
       " (-1)  \n",
       "───────\n",
       "2⋅n + 1"
      ]
     },
     "execution_count": 32,
     "metadata": {},
     "output_type": "execute_result"
    }
   ],
   "source": [
    "expr = (-1)**n / (2 * n + 1)\n",
    "expr"
   ]
  },
  {
   "cell_type": "code",
   "execution_count": 33,
   "metadata": {},
   "outputs": [
    {
     "data": {
      "image/png": "[encoded data removed]",
      "text/latex": [
       "$$\\frac{\\pi}{4}$$"
      ],
      "text/plain": [
       "π\n",
       "─\n",
       "4"
      ]
     },
     "execution_count": 33,
     "metadata": {},
     "output_type": "execute_result"
    }
   ],
   "source": [
    "sp.summation(expr, (n, 0, sp.oo))"
   ]
  },
  {
   "cell_type": "code",
   "execution_count": 34,
   "metadata": {},
   "outputs": [
    {
     "data": {
      "image/png": "[encoded data removed]",
      "text/latex": [
       "$$x - \\frac{x^{3}}{3} + \\frac{x^{5}}{5} - \\frac{x^{7}}{7} + \\frac{x^{9}}{9} - \\frac{x^{11}}{11} + \\mathcal{O}\\left(x^{13}\\right)$$"
      ],
      "text/plain": [
       "     3    5    7    9    11         \n",
       "    x    x    x    x    x      ⎛ 13⎞\n",
       "x - ── + ── - ── + ── - ─── + O⎝x  ⎠\n",
       "    3    5    7    9     11         "
      ]
     },
     "execution_count": 34,
     "metadata": {},
     "output_type": "execute_result"
    }
   ],
   "source": [
    "sp.series(sp.atan(x), x, n=13)"
   ]
  },
  {
   "cell_type": "code",
   "execution_count": 35,
   "metadata": {},
   "outputs": [
    {
     "data": {
      "image/png": "[encoded data removed]",
      "text/latex": [
       "$$\\frac{1}{x + y}$$"
      ],
      "text/plain": [
       "  1  \n",
       "─────\n",
       "x + y"
      ]
     },
     "execution_count": 35,
     "metadata": {},
     "output_type": "execute_result"
    }
   ],
   "source": [
    "expr = 1 / (x + y)\n",
    "expr"
   ]
  },
  {
   "cell_type": "code",
   "execution_count": 36,
   "metadata": {},
   "outputs": [
    {
     "data": {
      "image/png": "[encoded data removed]",
      "text/latex": [
       "$$\\frac{1}{y} - \\frac{x}{y^{2}} + \\frac{x^{2}}{y^{3}} - \\frac{x^{3}}{y^{4}} + \\frac{x^{4}}{y^{5}} - \\frac{x^{5}}{y^{6}} + \\mathcal{O}\\left(x^{6}\\right)$$"
      ],
      "text/plain": [
       "          2    3    4    5        \n",
       "1   x    x    x    x    x     ⎛ 6⎞\n",
       "─ - ── + ── - ── + ── - ── + O⎝x ⎠\n",
       "y    2    3    4    5    6        \n",
       "    y    y    y    y    y         "
      ]
     },
     "execution_count": 36,
     "metadata": {},
     "output_type": "execute_result"
    }
   ],
   "source": [
    "expr.series(x)"
   ]
  },
  {
   "cell_type": "code",
   "execution_count": 37,
   "metadata": {},
   "outputs": [
    {
     "data": {
      "image/png": "[encoded data removed]",
      "text/latex": [
       "$$1 + x + \\frac{x^{2}}{2} + \\frac{x^{3}}{6} + \\frac{x^{4}}{24} + \\frac{x^{5}}{120} + \\mathcal{O}\\left(x^{6}\\right)$$"
      ],
      "text/plain": [
       "         2    3    4     5        \n",
       "        x    x    x     x     ⎛ 6⎞\n",
       "1 + x + ── + ── + ── + ─── + O⎝x ⎠\n",
       "        2    6    24   120        "
      ]
     },
     "execution_count": 37,
     "metadata": {},
     "output_type": "execute_result"
    }
   ],
   "source": [
    "sp.series(sp.exp(x), x)"
   ]
  },
  {
   "cell_type": "code",
   "execution_count": 38,
   "metadata": {},
   "outputs": [
    {
     "data": {
      "image/png": "[encoded data removed]",
      "text/latex": [
       "$$e$$"
      ],
      "text/plain": [
       "ℯ"
      ]
     },
     "execution_count": 38,
     "metadata": {},
     "output_type": "execute_result"
    }
   ],
   "source": [
    "sp.summation(1 / sp.factorial(n), (n, 0, sp.oo))"
   ]
  },
  {
   "cell_type": "code",
   "execution_count": 39,
   "metadata": {},
   "outputs": [
    {
     "data": {
      "image/png": "[encoded data removed]",
      "text/latex": [
       "$$\\left(1 + \\frac{1}{n}\\right)^{n}$$"
      ],
      "text/plain": [
       "       n\n",
       "⎛    1⎞ \n",
       "⎜1 + ─⎟ \n",
       "⎝    n⎠ "
      ]
     },
     "execution_count": 39,
     "metadata": {},
     "output_type": "execute_result"
    }
   ],
   "source": [
    "expr = (1 + 1/n) ** n\n",
    "expr"
   ]
  },
  {
   "cell_type": "code",
   "execution_count": 40,
   "metadata": {},
   "outputs": [
    {
     "data": {
      "image/png": "[encoded data removed]",
      "text/latex": [
       "$$e$$"
      ],
      "text/plain": [
       "ℯ"
      ]
     },
     "execution_count": 40,
     "metadata": {},
     "output_type": "execute_result"
    }
   ],
   "source": [
    "sp.limit(expr, n, sp.oo)"
   ]
  },
  {
   "cell_type": "code",
   "execution_count": 41,
   "metadata": {},
   "outputs": [
    {
     "data": {
      "image/png": "[encoded data removed]",
      "text/latex": [
       "$$3.141592653589793238462643383279502884197169399375105820974944592307816406286208998628034825342117068$$"
      ],
      "text/plain": [
       "3.1415926535897932384626433832795028841971693993751058209749445923078164062862\n",
       "08998628034825342117068"
      ]
     },
     "execution_count": 41,
     "metadata": {},
     "output_type": "execute_result"
    }
   ],
   "source": [
    "sp.pi.evalf(100)"
   ]
  },
  {
   "cell_type": "code",
   "execution_count": 42,
   "metadata": {},
   "outputs": [
    {
     "data": {
      "image/png": "[encoded data removed]",
      "text/latex": [
       "$$\\left [ \\sqrt{\\frac{1}{2} + \\frac{\\sqrt{5}}{2}}\\right ]$$"
      ],
      "text/plain": [
       "⎡    ________⎤\n",
       "⎢   ╱ 1   √5 ⎥\n",
       "⎢  ╱  ─ + ── ⎥\n",
       "⎣╲╱   2   2  ⎦"
      ]
     },
     "execution_count": 42,
     "metadata": {},
     "output_type": "execute_result"
    }
   ],
   "source": [
    "sp.solve(x**4 - x**2 - 1, x)"
   ]
  },
  {
   "cell_type": "code",
   "execution_count": 43,
   "metadata": {},
   "outputs": [
    {
     "data": {
      "image/png": "[encoded data removed]",
      "text/latex": [
       "$$\\left \\{ x : 1, \\quad y : 0\\right \\}$$"
      ],
      "text/plain": [
       "{x: 1, y: 0}"
      ]
     },
     "execution_count": 43,
     "metadata": {},
     "output_type": "execute_result"
    }
   ],
   "source": [
    "sp.solve([x + y - 1, x - y - 1], [x,y])"
   ]
  },
  {
   "cell_type": "code",
   "execution_count": 44,
   "metadata": {},
   "outputs": [
    {
     "data": {
      "image/png": "[encoded data removed]",
      "text/latex": [
       "$$\\left \\{ x : \\frac{a}{2} + \\frac{c}{2}, \\quad y : \\frac{a}{2} - \\frac{c}{2}\\right \\}$$"
      ],
      "text/plain": [
       "⎧   a   c     a   c⎫\n",
       "⎨x: ─ + ─, y: ─ - ─⎬\n",
       "⎩   2   2     2   2⎭"
      ]
     },
     "execution_count": 44,
     "metadata": {},
     "output_type": "execute_result"
    }
   ],
   "source": [
    "sp.solve([x + y - a, x - y - c], [x,y])"
   ]
  },
  {
   "cell_type": "code",
   "execution_count": 45,
   "metadata": {},
   "outputs": [
    {
     "data": {
      "image/png": "[encoded data removed]",
      "text/latex": [
       "$$\\left ( m, \\quad n, \\quad o, \\quad p, \\quad q\\right )$$"
      ],
      "text/plain": [
       "(m, n, o, p, q)"
      ]
     },
     "execution_count": 45,
     "metadata": {},
     "output_type": "execute_result"
    }
   ],
   "source": [
    "sp.symbols('m:q')"
   ]
  },
  {
   "cell_type": "code",
   "execution_count": 46,
   "metadata": {},
   "outputs": [
    {
     "data": {
      "image/png": "[encoded data removed]",
      "text/latex": [
       "$$\\left ( r_{0}, \\quad r_{1}, \\quad r_{2}, \\quad r_{3}, \\quad r_{4}\\right )$$"
      ],
      "text/plain": [
       "(r₀, r₁, r₂, r₃, r₄)"
      ]
     },
     "execution_count": 46,
     "metadata": {},
     "output_type": "execute_result"
    }
   ],
   "source": [
    "sp.symbols('r:5')"
   ]
  },
  {
   "cell_type": "code",
   "execution_count": 47,
   "metadata": {},
   "outputs": [
    {
     "data": {
      "image/png": "[encoded data removed]",
      "text/latex": [
       "$$\\left[\\begin{matrix}1 & m\\\\3 & 4\\end{matrix}\\right]$$"
      ],
      "text/plain": [
       "⎡1  m⎤\n",
       "⎢    ⎥\n",
       "⎣3  4⎦"
      ]
     },
     "execution_count": 47,
     "metadata": {},
     "output_type": "execute_result"
    }
   ],
   "source": [
    "m = sp.symbols('m')\n",
    "M = sp.Matrix([[1, m], [3, 4]])\n",
    "M"
   ]
  },
  {
   "cell_type": "code",
   "execution_count": 48,
   "metadata": {},
   "outputs": [
    {
     "data": {
      "image/png": "[encoded data removed]",
      "text/latex": [
       "$$\\left[\\begin{matrix}\\frac{4}{- 3 m + 4} & - \\frac{m}{- 3 m + 4}\\\\- \\frac{3}{- 3 m + 4} & \\frac{1}{- 3 m + 4}\\end{matrix}\\right]$$"
      ],
      "text/plain": [
       "⎡   4        -m    ⎤\n",
       "⎢────────  ────────⎥\n",
       "⎢-3⋅m + 4  -3⋅m + 4⎥\n",
       "⎢                  ⎥\n",
       "⎢  -3         1    ⎥\n",
       "⎢────────  ────────⎥\n",
       "⎣-3⋅m + 4  -3⋅m + 4⎦"
      ]
     },
     "execution_count": 48,
     "metadata": {},
     "output_type": "execute_result"
    }
   ],
   "source": [
    "M.inv()"
   ]
  },
  {
   "cell_type": "code",
   "execution_count": 49,
   "metadata": {},
   "outputs": [
    {
     "data": {
      "image/png": "[encoded data removed]",
      "text/latex": [
       "$$\\left[\\begin{matrix}m_{00} & m_{01}\\\\m_{10} & m_{11}\\end{matrix}\\right]$$"
      ],
      "text/plain": [
       "⎡m₀₀  m₀₁⎤\n",
       "⎢        ⎥\n",
       "⎣m₁₀  m₁₁⎦"
      ]
     },
     "execution_count": 49,
     "metadata": {},
     "output_type": "execute_result"
    }
   ],
   "source": [
    "A = sp.Matrix(sp.symbols(\"m:2:2\")).reshape(2, 2)\n",
    "A"
   ]
  },
  {
   "cell_type": "code",
   "execution_count": 50,
   "metadata": {},
   "outputs": [
    {
     "data": {
      "image/png": "[encoded data removed]",
      "text/latex": [
       "$$m_{10}$$"
      ],
      "text/plain": [
       "m₁₀"
      ]
     },
     "execution_count": 50,
     "metadata": {},
     "output_type": "execute_result"
    }
   ],
   "source": [
    "A[1, 0]"
   ]
  },
  {
   "cell_type": "code",
   "execution_count": 51,
   "metadata": {},
   "outputs": [
    {
     "data": {
      "image/png": "[encoded data removed]",
      "text/latex": [
       "$$\\left[\\begin{matrix}b_{0}\\\\b_{1}\\end{matrix}\\right]$$"
      ],
      "text/plain": [
       "⎡b₀⎤\n",
       "⎢  ⎥\n",
       "⎣b₁⎦"
      ]
     },
     "execution_count": 51,
     "metadata": {},
     "output_type": "execute_result"
    }
   ],
   "source": [
    "b = sp.Matrix(sp.symbols(\"b:2\"))\n",
    "b"
   ]
  },
  {
   "cell_type": "code",
   "execution_count": 52,
   "metadata": {},
   "outputs": [
    {
     "data": {
      "image/png": "[encoded data removed]",
      "text/latex": [
       "$$\\left[\\begin{matrix}m_{00}^{2} + m_{01} m_{10} & m_{00} m_{01} + m_{01} m_{11}\\\\m_{00} m_{10} + m_{10} m_{11} & m_{01} m_{10} + m_{11}^{2}\\end{matrix}\\right]$$"
      ],
      "text/plain": [
       "⎡    2                               ⎤\n",
       "⎢ m₀₀  + m₀₁⋅m₁₀    m₀₀⋅m₀₁ + m₀₁⋅m₁₁⎥\n",
       "⎢                                    ⎥\n",
       "⎢                                 2  ⎥\n",
       "⎣m₀₀⋅m₁₀ + m₁₀⋅m₁₁   m₀₁⋅m₁₀ + m₁₁   ⎦"
      ]
     },
     "execution_count": 52,
     "metadata": {},
     "output_type": "execute_result"
    }
   ],
   "source": [
    "A**2"
   ]
  },
  {
   "cell_type": "code",
   "execution_count": 53,
   "metadata": {},
   "outputs": [
    {
     "data": {
      "image/png": "[encoded data removed]",
      "text/latex": [
       "$$\\left[\\begin{matrix}b_{0} m_{00} + b_{1} m_{01}\\\\b_{0} m_{10} + b_{1} m_{11}\\end{matrix}\\right]$$"
      ],
      "text/plain": [
       "⎡b₀⋅m₀₀ + b₁⋅m₀₁⎤\n",
       "⎢               ⎥\n",
       "⎣b₀⋅m₁₀ + b₁⋅m₁₁⎦"
      ]
     },
     "execution_count": 53,
     "metadata": {},
     "output_type": "execute_result"
    }
   ],
   "source": [
    "A * b"
   ]
  },
  {
   "cell_type": "code",
   "execution_count": 54,
   "metadata": {},
   "outputs": [
    {
     "data": {
      "image/png": "[encoded data removed]",
      "text/latex": [
       "$$m_{00} m_{11} - m_{01} m_{10}$$"
      ],
      "text/plain": [
       "m₀₀⋅m₁₁ - m₀₁⋅m₁₀"
      ]
     },
     "execution_count": 54,
     "metadata": {},
     "output_type": "execute_result"
    }
   ],
   "source": [
    "A.det()"
   ]
  },
  {
   "cell_type": "code",
   "execution_count": 55,
   "metadata": {},
   "outputs": [
    {
     "data": {
      "image/png": "[encoded data removed]",
      "text/latex": [
       "$$\\left[\\begin{matrix}\\frac{m_{11}}{m_{00} m_{11} - m_{01} m_{10}} & - \\frac{m_{01}}{m_{00} m_{11} - m_{01} m_{10}}\\\\- \\frac{m_{10}}{m_{00} m_{11} - m_{01} m_{10}} & \\frac{m_{00}}{m_{00} m_{11} - m_{01} m_{10}}\\end{matrix}\\right]$$"
      ],
      "text/plain": [
       "⎡       m₁₁               -m₀₁       ⎤\n",
       "⎢─────────────────  ─────────────────⎥\n",
       "⎢m₀₀⋅m₁₁ - m₀₁⋅m₁₀  m₀₀⋅m₁₁ - m₀₁⋅m₁₀⎥\n",
       "⎢                                    ⎥\n",
       "⎢      -m₁₀                m₀₀       ⎥\n",
       "⎢─────────────────  ─────────────────⎥\n",
       "⎣m₀₀⋅m₁₁ - m₀₁⋅m₁₀  m₀₀⋅m₁₁ - m₀₁⋅m₁₀⎦"
      ]
     },
     "execution_count": 55,
     "metadata": {},
     "output_type": "execute_result"
    }
   ],
   "source": [
    "A.inv()"
   ]
  },
  {
   "cell_type": "markdown",
   "metadata": {},
   "source": [
    "from https://github.com/sympy/sympy/wiki/Matrices-eigenvalues"
   ]
  },
  {
   "cell_type": "code",
   "execution_count": 56,
   "metadata": {},
   "outputs": [
    {
     "data": {
      "image/png": "[encoded data removed]",
      "text/latex": [
       "$$\\left[\\begin{matrix}1 & 1 & 1 & 1\\\\1 & 2 & 3 & 4\\\\1 & 3 & 5 & 7\\\\1 & 4 & 7 & 10\\end{matrix}\\right]$$"
      ],
      "text/plain": [
       "⎡1  1  1  1 ⎤\n",
       "⎢           ⎥\n",
       "⎢1  2  3  4 ⎥\n",
       "⎢           ⎥\n",
       "⎢1  3  5  7 ⎥\n",
       "⎢           ⎥\n",
       "⎣1  4  7  10⎦"
      ]
     },
     "execution_count": 56,
     "metadata": {},
     "output_type": "execute_result"
    }
   ],
   "source": [
    "M = sp.Matrix(4, 4, lambda i, j: i * j + 1)\n",
    "M"
   ]
  },
  {
   "cell_type": "code",
   "execution_count": 57,
   "metadata": {},
   "outputs": [
    {
     "data": {
      "image/png": "[encoded data removed]",
      "text/latex": [
       "$$\\left \\{ 0 : 2, \\quad - \\sqrt{61} + 9 : 1, \\quad \\sqrt{61} + 9 : 1\\right \\}$$"
      ],
      "text/plain": [
       "{0: 2, -√61 + 9: 1, √61 + 9: 1}"
      ]
     },
     "execution_count": 57,
     "metadata": {},
     "output_type": "execute_result"
    }
   ],
   "source": [
    "M.eigenvals()"
   ]
  },
  {
   "cell_type": "code",
   "execution_count": 58,
   "metadata": {},
   "outputs": [
    {
     "data": {
      "image/png": "[encoded data removed]",
      "text/latex": [
       "$$\\left[\\begin{matrix}2 & 2 & 2 & 2\\\\2 & 3 & 4 & 5\\\\2 & 4 & 6 & 8\\\\2 & 5 & 8 & 11\\end{matrix}\\right]$$"
      ],
      "text/plain": [
       "⎡2  2  2  2 ⎤\n",
       "⎢           ⎥\n",
       "⎢2  3  4  5 ⎥\n",
       "⎢           ⎥\n",
       "⎢2  4  6  8 ⎥\n",
       "⎢           ⎥\n",
       "⎣2  5  8  11⎦"
      ]
     },
     "execution_count": 58,
     "metadata": {},
     "output_type": "execute_result"
    }
   ],
   "source": [
    "M = sp.Matrix(4, 4, lambda i, j: i * j + 2)\n",
    "M"
   ]
  },
  {
   "cell_type": "code",
   "execution_count": 59,
   "metadata": {},
   "outputs": [
    {
     "data": {
      "image/png": "[encoded data removed]",
      "text/latex": [
       "$$\\left \\{ 0 : 2, \\quad 2 : 1, \\quad 20 : 1\\right \\}$$"
      ],
      "text/plain": [
       "{0: 2, 2: 1, 20: 1}"
      ]
     },
     "execution_count": 59,
     "metadata": {},
     "output_type": "execute_result"
    }
   ],
   "source": [
    "M.eigenvals()"
   ]
  },
  {
   "cell_type": "code",
   "execution_count": 60,
   "metadata": {},
   "outputs": [
    {
     "data": {
      "image/png": "[encoded data removed]",
      "text/latex": [
       "$$\\left[\\begin{matrix}3 & 3 & 3 & 3\\\\3 & 4 & 5 & 6\\\\3 & 5 & 7 & 9\\\\3 & 6 & 9 & 12\\end{matrix}\\right]$$"
      ],
      "text/plain": [
       "⎡3  3  3  3 ⎤\n",
       "⎢           ⎥\n",
       "⎢3  4  5  6 ⎥\n",
       "⎢           ⎥\n",
       "⎢3  5  7  9 ⎥\n",
       "⎢           ⎥\n",
       "⎣3  6  9  12⎦"
      ]
     },
     "execution_count": 60,
     "metadata": {},
     "output_type": "execute_result"
    }
   ],
   "source": [
    "M = sp.Matrix(4, 4, lambda i, j: i * j + 3)\n",
    "M"
   ]
  },
  {
   "cell_type": "code",
   "execution_count": 61,
   "metadata": {},
   "outputs": [
    {
     "data": {
      "image/png": "[encoded data removed]",
      "text/latex": [
       "$$\\left \\{ 0 : 2, \\quad - \\sqrt{109} + 13 : 1, \\quad \\sqrt{109} + 13 : 1\\right \\}$$"
      ],
      "text/plain": [
       "{0: 2, -√109 + 13: 1, √109 + 13: 1}"
      ]
     },
     "execution_count": 61,
     "metadata": {},
     "output_type": "execute_result"
    }
   ],
   "source": [
    "M.eigenvals()"
   ]
  },
  {
   "cell_type": "code",
   "execution_count": 62,
   "metadata": {},
   "outputs": [
    {
     "data": {
      "image/png": "[encoded data removed]",
      "text/latex": [
       "$$\\left[\\begin{matrix}x & x & x & x\\\\x & x + 1 & x + 2 & x + 3\\\\x & x + 2 & x + 4 & x + 6\\\\x & x + 3 & x + 6 & x + 9\\end{matrix}\\right]$$"
      ],
      "text/plain": [
       "⎡x    x      x      x  ⎤\n",
       "⎢                      ⎥\n",
       "⎢x  x + 1  x + 2  x + 3⎥\n",
       "⎢                      ⎥\n",
       "⎢x  x + 2  x + 4  x + 6⎥\n",
       "⎢                      ⎥\n",
       "⎣x  x + 3  x + 6  x + 9⎦"
      ]
     },
     "execution_count": 62,
     "metadata": {},
     "output_type": "execute_result"
    }
   ],
   "source": [
    "x = sp.symbols('x')\n",
    "M = sp.Matrix(4, 4, lambda i, j: i * j + x)\n",
    "M"
   ]
  },
  {
   "cell_type": "code",
   "execution_count": 63,
   "metadata": {},
   "outputs": [
    {
     "data": {
      "image/png": "[encoded data removed]",
      "text/latex": [
       "$$\\left \\{ 0 : 2, \\quad 2 x - \\sqrt{4 x^{2} + 8 x + 49} + 7 : 1, \\quad 2 x + \\sqrt{4 x^{2} + 8 x + 49} + 7 : 1\\right \\}$$"
      ],
      "text/plain": [
       "⎧               _________________                  _________________       ⎫\n",
       "⎨              ╱    2                             ╱    2                   ⎬\n",
       "⎩0: 2, 2⋅x - ╲╱  4⋅x  + 8⋅x + 49  + 7: 1, 2⋅x + ╲╱  4⋅x  + 8⋅x + 49  + 7: 1⎭"
      ]
     },
     "execution_count": 63,
     "metadata": {},
     "output_type": "execute_result"
    }
   ],
   "source": [
    "M.eigenvals()"
   ]
  },
  {
   "cell_type": "markdown",
   "metadata": {},
   "source": [
    "from https://groups.google.com/forum/#!topic/sympy/mISLFQcEUIM"
   ]
  },
  {
   "cell_type": "code",
   "execution_count": 64,
   "metadata": {},
   "outputs": [
    {
     "data": {
      "image/png": "[encoded data removed]",
      "text/latex": [
       "$$\\begin{cases} 0 & \\text{for}\\: x \\leq -1 \\\\\\frac{1}{2} & \\text{for}\\: x < 1 \\\\0 & \\text{otherwise} \\end{cases}$$"
      ],
      "text/plain": [
       "⎧ 0   for x ≤ -1\n",
       "⎪               \n",
       "⎨1/2  for x < 1 \n",
       "⎪               \n",
       "⎩ 0   otherwise "
      ]
     },
     "execution_count": 64,
     "metadata": {},
     "output_type": "execute_result"
    }
   ],
   "source": [
    "f = sp.Piecewise((0, x <= -1), (sp.Rational(1, 2), x < 1), (0, True))\n",
    "f"
   ]
  },
  {
   "cell_type": "code",
   "execution_count": 65,
   "metadata": {},
   "outputs": [],
   "source": [
    "#sp.integrate(f.subs(x, x - y) * f(x), y)"
   ]
  },
  {
   "cell_type": "code",
   "execution_count": 66,
   "metadata": {},
   "outputs": [
    {
     "data": {
      "image/png": "[encoded data removed]",
      "text/latex": [
       "$$\\frac{1}{2} {G_{2, 2}^{1, 1}\\left(\\begin{matrix} 1 & 2 \\\\1 & 0 \\end{matrix} \\middle| {- 10 e^{i \\pi}} \\right)} - \\frac{1}{2} {G_{2, 2}^{1, 1}\\left(\\begin{matrix} 1 & 2 \\\\1 & 0 \\end{matrix} \\middle| {- 5 e^{i \\pi}} \\right)} + \\frac{1}{2} {G_{2, 2}^{0, 2}\\left(\\begin{matrix} 2, 1 &  \\\\ & 1, 0 \\end{matrix} \\middle| {-10} \\right)} - \\frac{1}{2} {G_{2, 2}^{0, 2}\\left(\\begin{matrix} 2, 1 &  \\\\ & 1, 0 \\end{matrix} \\middle| {-5} \\right)}$$"
      ],
      "text/plain": [
       "╭─╮1, 1 ⎛1  2 │      ⅈ⋅π⎞   ╭─╮1, 1 ⎛1  2 │     ⅈ⋅π⎞   ╭─╮0, 2 ⎛2, 1       │  \n",
       "│╶┐     ⎜     │ -10⋅ℯ   ⎟   │╶┐     ⎜     │ -5⋅ℯ   ⎟   │╶┐     ⎜           │ -\n",
       "╰─╯2, 2 ⎝1  0 │         ⎠   ╰─╯2, 2 ⎝1  0 │        ⎠   ╰─╯2, 2 ⎝      1, 0 │  \n",
       "───────────────────────── - ──────────────────────── + ───────────────────────\n",
       "            2                          2                           2          \n",
       "\n",
       "  ⎞   ╭─╮0, 2 ⎛2, 1       │   ⎞\n",
       "10⎟   │╶┐     ⎜           │ -5⎟\n",
       "  ⎠   ╰─╯2, 2 ⎝      1, 0 │   ⎠\n",
       "─── - ─────────────────────────\n",
       "                  2            "
      ]
     },
     "execution_count": 66,
     "metadata": {},
     "output_type": "execute_result"
    }
   ],
   "source": [
    "sp.integrate(sp.Heaviside(x + 1) / 2 - sp.Heaviside(x - 1) / 2, (x, -10, -5))"
   ]
  },
  {
   "cell_type": "code",
   "execution_count": 67,
   "metadata": {},
   "outputs": [
    {
     "data": {
      "image/png": "[encoded data removed]",
      "text/latex": [
       "$$\\begin{cases} 0 & \\text{for}\\: x < 0 \\\\x & \\text{for}\\: x < 1 \\\\0 & \\text{otherwise} \\end{cases}$$"
      ],
      "text/plain": [
       "⎧0  for x < 0\n",
       "⎪            \n",
       "⎨x  for x < 1\n",
       "⎪            \n",
       "⎩0  otherwise"
      ]
     },
     "execution_count": 67,
     "metadata": {},
     "output_type": "execute_result"
    }
   ],
   "source": [
    "q = sp.Piecewise((0, x < 0), (x, x < 1), (0, True))\n",
    "q"
   ]
  },
  {
   "cell_type": "code",
   "execution_count": 68,
   "metadata": {},
   "outputs": [
    {
     "data": {
      "image/png": "[encoded data removed]",
      "text/latex": [
       "$$\\left ( \\left ( 0, \\quad x < 0\\right ), \\quad \\left ( x, \\quad x < 1\\right ), \\quad \\left ( 0, \\quad \\mathrm{True}\\right )\\right )$$"
      ],
      "text/plain": [
       "((0, x < 0), (x, x < 1), (0, True))"
      ]
     },
     "execution_count": 68,
     "metadata": {},
     "output_type": "execute_result"
    }
   ],
   "source": [
    "q.args"
   ]
  },
  {
   "cell_type": "markdown",
   "metadata": {},
   "source": [
    "from https://groups.google.com/forum/#!topic/sympy/tt8IA3y2sfQ"
   ]
  },
  {
   "cell_type": "code",
   "execution_count": 69,
   "metadata": {},
   "outputs": [
    {
     "data": {
      "image/png": "[encoded data removed]",
      "text/latex": [
       "$$\\left( x \\mapsto e^{- x^{2}} \\right)$$"
      ],
      "text/plain": [
       "       2\n",
       "     -x \n",
       "x ↦ ℯ   "
      ]
     },
     "execution_count": 69,
     "metadata": {},
     "output_type": "execute_result"
    }
   ],
   "source": [
    "f = sp.Lambda(x, sp.exp(-x**2))\n",
    "f"
   ]
  },
  {
   "cell_type": "code",
   "execution_count": 70,
   "metadata": {},
   "outputs": [
    {
     "data": {
      "image/png": "[encoded data removed]",
      "text/latex": [
       "$$\\int_{-\\infty}^{\\infty} e^{- y^{2}} e^{- \\left(x - y\\right)^{2}}\\, dy$$"
      ],
      "text/plain": [
       "∞                    \n",
       "⌠                    \n",
       "⎮     2          2   \n",
       "⎮   -y   -(x - y)    \n",
       "⎮  ℯ   ⋅ℯ          dy\n",
       "⌡                    \n",
       "-∞                   "
      ]
     },
     "execution_count": 70,
     "metadata": {},
     "output_type": "execute_result"
    }
   ],
   "source": [
    "conv = sp.Integral(f(x-y)*f(y), (y, -sp.oo, sp.oo))\n",
    "conv"
   ]
  },
  {
   "cell_type": "code",
   "execution_count": 71,
   "metadata": {},
   "outputs": [
    {
     "data": {
      "image/png": "[encoded data removed]",
      "text/latex": [
       "$$\\int_{-\\infty}^{\\infty} e^{- 2 y^{2}}\\, dy$$"
      ],
      "text/plain": [
       "∞           \n",
       "⌠           \n",
       "⎮       2   \n",
       "⎮   -2⋅y    \n",
       "⎮  ℯ      dy\n",
       "⌡           \n",
       "-∞          "
      ]
     },
     "execution_count": 71,
     "metadata": {},
     "output_type": "execute_result"
    }
   ],
   "source": [
    "conv.subs(x, 0)"
   ]
  },
  {
   "cell_type": "code",
   "execution_count": 72,
   "metadata": {},
   "outputs": [
    {
     "data": {
      "text/plain": [
       "<function numpy.<lambda>>"
      ]
     },
     "execution_count": 72,
     "metadata": {},
     "output_type": "execute_result"
    }
   ],
   "source": [
    "l = sp.lambdify(x, sp.Integral(f(x), (x, -sp.oo, sp.oo)))\n",
    "#l(3) # doesn't work!\n",
    "l"
   ]
  },
  {
   "cell_type": "code",
   "execution_count": 73,
   "metadata": {},
   "outputs": [
    {
     "data": {
      "text/plain": [
       "<function <lambda>>"
      ]
     },
     "execution_count": 73,
     "metadata": {},
     "output_type": "execute_result"
    }
   ],
   "source": [
    "l = sp.lambdify(x, sp.Integral(f(x), (x, -sp.oo, sp.oo)), \"sympy\")\n",
    "l"
   ]
  },
  {
   "cell_type": "code",
   "execution_count": 74,
   "metadata": {},
   "outputs": [
    {
     "data": {
      "image/png": "[encoded data removed]",
      "text/latex": [
       "$$\\int_{-\\infty}^{\\infty} e^{- x^{2}}\\, dx$$"
      ],
      "text/plain": [
       "∞         \n",
       "⌠         \n",
       "⎮     2   \n",
       "⎮   -x    \n",
       "⎮  ℯ    dx\n",
       "⌡         \n",
       "-∞        "
      ]
     },
     "execution_count": 74,
     "metadata": {},
     "output_type": "execute_result"
    }
   ],
   "source": [
    "l(x)"
   ]
  },
  {
   "cell_type": "markdown",
   "metadata": {},
   "source": [
    "from http://www.mare.ee/indrek/misc/convolution.pdf"
   ]
  },
  {
   "cell_type": "code",
   "execution_count": 75,
   "metadata": {},
   "outputs": [],
   "source": [
    "# Convolute two \"one-piece\" functions. Arguments F and G\n",
    "# are tuples in form (h(x) , a_h, b_h), where h(x) is\n",
    "# the function and [a_h, b_h) is the range where the functions\n",
    "# are non-zero.\n",
    "def convolute_onepiece(x, F, G):\n",
    "    f, a_f, b_f = F\n",
    "    g, a_g, b_g = G\n",
    "    f = sp.S(f)\n",
    "    g = sp.S(g)\n",
    "    # make sure ranges are in order, swap values if necessary\n",
    "    if b_f - a_f > b_g - a_g:\n",
    "        f, a_f, b_f, g, a_g, b_g = g, a_g, b_g, f, a_f, b_f\n",
    "    y = sp.Dummy('y')\n",
    "    i = sp.integrate(f.subs(x, y) * g.subs(x, x-y), y)\n",
    "    return [\n",
    "        (i.subs(y, x-a_g) - i.subs(y, a_f), a_f+a_g, b_f+a_g),\n",
    "        (i.subs(y, b_f) - i.subs(y, a_f), b_f+a_g, a_f+b_g),\n",
    "        (i.subs(y, b_f) - i.subs(y, x-b_g), a_f+b_g, b_f+b_g) ]"
   ]
  },
  {
   "cell_type": "code",
   "execution_count": 76,
   "metadata": {},
   "outputs": [
    {
     "data": {
      "image/png": "[encoded data removed]",
      "text/latex": [
       "$$\\left [ \\left ( 0.025 x + 0.275, \\quad -11, \\quad -9\\right ), \\quad \\left ( 0.05, \\quad -9, \\quad 9\\right ), \\quad \\left ( - 0.025 x + 0.275, \\quad 9, \\quad 11\\right )\\right ]$$"
      ],
      "text/plain": [
       "[(0.025⋅x + 0.275, -11, -9), (0.05, -9, 9), (-0.025⋅x + 0.275, 9, 11)]"
      ]
     },
     "execution_count": 76,
     "metadata": {},
     "output_type": "execute_result"
    }
   ],
   "source": [
    "# Two \"flat\" functions, uniform centered PDFs\n",
    "F = 0.5, -1, 1\n",
    "G = 0.05, -10, 10\n",
    "convolute_onepiece(sp.abc.x, F, G)"
   ]
  },
  {
   "cell_type": "markdown",
   "metadata": {},
   "source": [
    "from https://github.com/fperez/sympy/blob/master/sympy/solvers/tests/test_pde.py"
   ]
  },
  {
   "cell_type": "code",
   "execution_count": 77,
   "metadata": {},
   "outputs": [],
   "source": [
    "from sympy import Derivative as D"
   ]
  },
  {
   "cell_type": "code",
   "execution_count": 78,
   "metadata": {},
   "outputs": [],
   "source": [
    "x, y, z, t = sp.symbols(\"x y z t\")\n",
    "c = sp.symbols(\"c\", real=True)\n",
    "Phi = sp.Function('Phi')\n",
    "F, R, T, X, Y, Z, u = map(sp.Function, 'FRTXYZu')\n",
    "r, theta, z = sp.symbols('r theta z')"
   ]
  },
  {
   "cell_type": "code",
   "execution_count": 79,
   "metadata": {},
   "outputs": [
    {
     "data": {
      "image/png": "[encoded data removed]",
      "text/latex": [
       "$$\\frac{\\partial}{\\partial x} F{\\left (x,y,z \\right )} + \\frac{\\partial}{\\partial y} F{\\left (x,y,z \\right )} + \\frac{\\partial}{\\partial z} F{\\left (x,y,z \\right )} = 0$$"
      ],
      "text/plain": [
       "∂                ∂                ∂                 \n",
       "──(F(x, y, z)) + ──(F(x, y, z)) + ──(F(x, y, z)) = 0\n",
       "∂x               ∂y               ∂z                "
      ]
     },
     "execution_count": 79,
     "metadata": {},
     "output_type": "execute_result"
    }
   ],
   "source": [
    "eq = sp.Eq(D(F(x, y, z), x) + D(F(x, y, z), y) + D(F(x, y, z), z))\n",
    "eq"
   ]
  },
  {
   "cell_type": "code",
   "execution_count": 80,
   "metadata": {},
   "outputs": [
    {
     "data": {
      "image/png": "[encoded data removed]",
      "text/latex": [
       "$$\\left [ \\frac{\\frac{d}{d y} Y{\\left (y \\right )}}{Y{\\left (y \\right )}}, \\quad - \\frac{\\frac{\\partial}{\\partial x} u{\\left (x,z \\right )}}{u{\\left (x,z \\right )}} - \\frac{\\frac{\\partial}{\\partial z} u{\\left (x,z \\right )}}{u{\\left (x,z \\right )}}\\right ]$$"
      ],
      "text/plain": [
       "⎡d           ∂             ∂          ⎤\n",
       "⎢──(Y(y))    ──(u(x, z))   ──(u(x, z))⎥\n",
       "⎢dy          ∂x            ∂z         ⎥\n",
       "⎢────────, - ─────────── - ───────────⎥\n",
       "⎣  Y(y)        u(x, z)       u(x, z)  ⎦"
      ]
     },
     "execution_count": 80,
     "metadata": {},
     "output_type": "execute_result"
    }
   ],
   "source": [
    "sp.pde_separate_mul(eq, F(x, y, z), [Y(y), u(x, z)])"
   ]
  },
  {
   "cell_type": "code",
   "execution_count": 81,
   "metadata": {},
   "outputs": [
    {
     "data": {
      "image/png": "[encoded data removed]",
      "text/latex": [
       "$$\\left [ \\frac{\\frac{d}{d x} X{\\left (x \\right )}}{X{\\left (x \\right )}}, \\quad - \\frac{\\frac{d}{d z} Z{\\left (z \\right )}}{Z{\\left (z \\right )}} - \\frac{\\frac{d}{d y} Y{\\left (y \\right )}}{Y{\\left (y \\right )}}\\right ]$$"
      ],
      "text/plain": [
       "⎡d           d          d       ⎤\n",
       "⎢──(X(x))    ──(Z(z))   ──(Y(y))⎥\n",
       "⎢dx          dz         dy      ⎥\n",
       "⎢────────, - ──────── - ────────⎥\n",
       "⎣  X(x)        Z(z)       Y(y)  ⎦"
      ]
     },
     "execution_count": 81,
     "metadata": {},
     "output_type": "execute_result"
    }
   ],
   "source": [
    "sp.pde_separate_mul(eq, F(x, y, z), [X(x), Y(y), Z(z)])"
   ]
  },
  {
   "cell_type": "code",
   "execution_count": 82,
   "metadata": {},
   "outputs": [
    {
     "data": {
      "image/png": "[encoded data removed]",
      "text/latex": [
       "$$\\frac{\\partial^{2}}{\\partial t^{2}}  u{\\left (x,t \\right )} = c^{2} \\frac{\\partial^{2}}{\\partial x^{2}}  u{\\left (x,t \\right )}$$"
      ],
      "text/plain": [
       "  2                 2         \n",
       " ∂              2  ∂          \n",
       "───(u(x, t)) = c ⋅───(u(x, t))\n",
       "  2                 2         \n",
       "∂t                ∂x          "
      ]
     },
     "execution_count": 82,
     "metadata": {},
     "output_type": "execute_result"
    }
   ],
   "source": [
    "# wave equation\n",
    "wave = sp.Eq(D(u(x, t), t, t), c**2*D(u(x, t), x, x))\n",
    "wave"
   ]
  },
  {
   "cell_type": "code",
   "execution_count": 83,
   "metadata": {},
   "outputs": [
    {
     "data": {
      "image/png": "[encoded data removed]",
      "text/latex": [
       "$$\\left [ \\frac{\\frac{d^{2}}{d x^{2}}  X{\\left (x \\right )}}{X{\\left (x \\right )}}, \\quad \\frac{\\frac{d^{2}}{d t^{2}}  T{\\left (t \\right )}}{c^{2} T{\\left (t \\right )}}\\right ]$$"
      ],
      "text/plain": [
       "⎡  2          2      ⎤\n",
       "⎢ d          d       ⎥\n",
       "⎢───(X(x))  ───(T(t))⎥\n",
       "⎢  2          2      ⎥\n",
       "⎢dx         dt       ⎥\n",
       "⎢─────────, ─────────⎥\n",
       "⎢   X(x)      2      ⎥\n",
       "⎣            c ⋅T(t) ⎦"
      ]
     },
     "execution_count": 83,
     "metadata": {},
     "output_type": "execute_result"
    }
   ],
   "source": [
    "sp.pde_separate_mul(wave, u(x, t), [X(x), T(t)])"
   ]
  },
  {
   "cell_type": "code",
   "execution_count": 84,
   "metadata": {},
   "outputs": [
    {
     "data": {
      "image/png": "[encoded data removed]",
      "text/latex": [
       "$$\\frac{\\partial^{2}}{\\partial r^{2}}  \\Phi{\\left (r,\\theta,z \\right )} + \\frac{\\partial^{2}}{\\partial z^{2}}  \\Phi{\\left (r,\\theta,z \\right )} + \\frac{1}{r} \\frac{\\partial}{\\partial r} \\Phi{\\left (r,\\theta,z \\right )} + \\frac{1}{r^{2}} \\frac{\\partial^{2}}{\\partial \\theta^{2}}  \\Phi{\\left (r,\\theta,z \\right )} = 0$$"
      ],
      "text/plain": [
       "                                                       2                \n",
       "                                                      ∂                 \n",
       "                                    ∂                ───(Φ(r, θ, z))    \n",
       "  2                 2               ──(Φ(r, θ, z))     2                \n",
       " ∂                 ∂                ∂r               ∂θ                 \n",
       "───(Φ(r, θ, z)) + ───(Φ(r, θ, z)) + ────────────── + ─────────────── = 0\n",
       "  2                 2                     r                  2          \n",
       "∂r                ∂z                                        r           "
      ]
     },
     "execution_count": 84,
     "metadata": {},
     "output_type": "execute_result"
    }
   ],
   "source": [
    "# Laplace equation in cylindrical coords\n",
    "eq = sp.Eq(1/r * D(Phi(r, theta, z), r) + D(Phi(r, theta, z), r, 2) +\n",
    "           1/r**2 * D(Phi(r, theta, z), theta, 2) + D(Phi(r, theta, z), z, 2))\n",
    "eq"
   ]
  },
  {
   "cell_type": "code",
   "execution_count": 85,
   "metadata": {},
   "outputs": [
    {
     "data": {
      "image/png": "[encoded data removed]",
      "text/latex": [
       "$$\\left [ \\frac{\\frac{d^{2}}{d z^{2}}  Z{\\left (z \\right )}}{Z{\\left (z \\right )}}, \\quad - \\frac{\\frac{\\partial^{2}}{\\partial r^{2}}  u{\\left (\\theta,r \\right )}}{u{\\left (\\theta,r \\right )}} - \\frac{\\frac{\\partial}{\\partial r} u{\\left (\\theta,r \\right )}}{r u{\\left (\\theta,r \\right )}} - \\frac{\\frac{\\partial^{2}}{\\partial \\theta^{2}}  u{\\left (\\theta,r \\right )}}{r^{2} u{\\left (\\theta,r \\right )}}\\right ]$$"
      ],
      "text/plain": [
       "⎡  2            2                            2         ⎤\n",
       "⎢ d            ∂                            ∂          ⎥\n",
       "⎢───(Z(z))    ───(u(θ, r))   ∂             ───(u(θ, r))⎥\n",
       "⎢  2            2            ──(u(θ, r))     2         ⎥\n",
       "⎢dz           ∂r             ∂r            ∂θ          ⎥\n",
       "⎢─────────, - ──────────── - ─────────── - ────────────⎥\n",
       "⎢   Z(z)        u(θ, r)       r⋅u(θ, r)      2         ⎥\n",
       "⎣                                           r ⋅u(θ, r) ⎦"
      ]
     },
     "execution_count": 85,
     "metadata": {},
     "output_type": "execute_result"
    }
   ],
   "source": [
    "# Separate z\n",
    "sp.pde_separate_mul(eq, Phi(r, theta, z), [Z(z), u(theta, r)])"
   ]
  },
  {
   "cell_type": "code",
   "execution_count": 86,
   "metadata": {},
   "outputs": [
    {
     "data": {
      "image/png": "[encoded data removed]",
      "text/latex": [
       "$$- \\frac{\\frac{\\partial^{2}}{\\partial r^{2}}  u{\\left (\\theta,r \\right )}}{u{\\left (\\theta,r \\right )}} - \\frac{\\frac{\\partial}{\\partial r} u{\\left (\\theta,r \\right )}}{r u{\\left (\\theta,r \\right )}} - \\frac{\\frac{\\partial^{2}}{\\partial \\theta^{2}}  u{\\left (\\theta,r \\right )}}{r^{2} u{\\left (\\theta,r \\right )}} = c$$"
      ],
      "text/plain": [
       "    2                            2             \n",
       "   ∂                            ∂              \n",
       "  ───(u(θ, r))   ∂             ───(u(θ, r))    \n",
       "    2            ──(u(θ, r))     2             \n",
       "  ∂r             ∂r            ∂θ              \n",
       "- ──────────── - ─────────── - ──────────── = c\n",
       "    u(θ, r)       r⋅u(θ, r)      2             \n",
       "                                r ⋅u(θ, r)     "
      ]
     },
     "execution_count": 86,
     "metadata": {},
     "output_type": "execute_result"
    }
   ],
   "source": [
    "# Lets use the result to create a new equation...\n",
    "eq = sp.Eq(_[1], c)\n",
    "eq"
   ]
  },
  {
   "cell_type": "code",
   "execution_count": 87,
   "metadata": {},
   "outputs": [
    {
     "data": {
      "image/png": "[encoded data removed]",
      "text/latex": [
       "$$\\left [ \\frac{\\frac{d^{2}}{d \\theta^{2}}  T{\\left (\\theta \\right )}}{T{\\left (\\theta \\right )}}, \\quad - c r^{2} - \\frac{r^{2} \\frac{d^{2}}{d r^{2}}  R{\\left (r \\right )}}{R{\\left (r \\right )}} - \\frac{r \\frac{d}{d r} R{\\left (r \\right )}}{R{\\left (r \\right )}}\\right ]$$"
      ],
      "text/plain": [
       "⎡  2                      2                   ⎤\n",
       "⎢ d                   2  d                    ⎥\n",
       "⎢───(T(θ))           r ⋅───(R(r))     d       ⎥\n",
       "⎢  2                      2         r⋅──(R(r))⎥\n",
       "⎢dθ              2      dr            dr      ⎥\n",
       "⎢─────────, - c⋅r  - ──────────── - ──────────⎥\n",
       "⎣   T(θ)                 R(r)          R(r)   ⎦"
      ]
     },
     "execution_count": 87,
     "metadata": {},
     "output_type": "execute_result"
    }
   ],
   "source": [
    "# ...and separate theta...\n",
    "sp.pde_separate_mul(eq, u(theta, r), [T(theta), R(r)])"
   ]
  },
  {
   "cell_type": "code",
   "execution_count": 88,
   "metadata": {},
   "outputs": [
    {
     "data": {
      "image/png": "[encoded data removed]",
      "text/latex": [
       "$$\\left [ c r^{2} + \\frac{r^{2} \\frac{d^{2}}{d r^{2}}  R{\\left (r \\right )}}{R{\\left (r \\right )}} + \\frac{r \\frac{d}{d r} R{\\left (r \\right )}}{R{\\left (r \\right )}}, \\quad - \\frac{\\frac{d^{2}}{d \\theta^{2}}  T{\\left (\\theta \\right )}}{T{\\left (\\theta \\right )}}\\right ]$$"
      ],
      "text/plain": [
       "⎡            2                        2       ⎤\n",
       "⎢        2  d                        d        ⎥\n",
       "⎢       r ⋅───(R(r))     d         -───(T(θ)) ⎥\n",
       "⎢            2         r⋅──(R(r))     2       ⎥\n",
       "⎢   2      dr            dr         dθ        ⎥\n",
       "⎢c⋅r  + ──────────── + ──────────, ───────────⎥\n",
       "⎣           R(r)          R(r)         T(θ)   ⎦"
      ]
     },
     "execution_count": 88,
     "metadata": {},
     "output_type": "execute_result"
    }
   ],
   "source": [
    "# ...or r...\n",
    "sp.pde_separate_mul(eq, u(theta, r), [R(r), T(theta)])"
   ]
  },
  {
   "cell_type": "code",
   "execution_count": null,
   "metadata": {},
   "outputs": [],
   "source": []
  },
  {
   "cell_type": "markdown",
   "metadata": {},
   "source": [
    "<p xmlns:dct=\"http://purl.org/dc/terms/\">\n",
    "  <a rel=\"license\"\n",
    "     href=\"http://creativecommons.org/publicdomain/zero/1.0/\">\n",
    "    <img src=\"http://i.creativecommons.org/p/zero/1.0/88x31.png\" style=\"border-style: none;\" alt=\"CC0\" />\n",
    "  </a>\n",
    "  <br />\n",
    "  To the extent possible under law,\n",
    "  <span rel=\"dct:publisher\" resource=\"[_:publisher]\">the person who associated CC0</span>\n",
    "  with this work has waived all copyright and related or neighboring\n",
    "  rights to this work.\n",
    "</p>"
   ]
  }
 ],
 "metadata": {
  "kernelspec": {
   "display_name": "Python 3",
   "language": "python",
   "name": "python3"
  },
  "language_info": {
   "codemirror_mode": {
    "name": "ipython",
    "version": 3
   },
   "file_extension": ".py",
   "mimetype": "text/x-python",
   "name": "python",
   "nbconvert_exporter": "python",
   "pygments_lexer": "ipython3",
   "version": "3.6.3"
  }
 },
 "nbformat": 4,
 "nbformat_minor": 1
}
