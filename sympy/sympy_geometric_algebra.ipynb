{
 "cells": [
  {
   "cell_type": "markdown",
   "metadata": {},
   "source": [
    "Just some random stuff from the interwebs ..."
   ]
  },
  {
   "cell_type": "code",
   "execution_count": 1,
   "metadata": {
    "collapsed": false
   },
   "outputs": [],
   "source": [
    "import sympy\n",
    "from sympy.galgebra.ga import *\n",
    "sympy.init_printing()\n",
    "Format(ipy=True)\n",
    "def MVlatex(mv, *args) :\n",
    "    mv.base_to_blade()\n",
    "    return '$$'+str(mv).replace(r'\\W', r'\\wedge').replace(r'\\bm', r'\\boldsymbol').replace(r'\\lp',r'\\left(').replace(r'\\rp',r'\\right)')+'$$'\n",
    "MV._repr_latex_ = MVlatex"
   ]
  },
  {
   "cell_type": "code",
   "execution_count": 2,
   "metadata": {
    "collapsed": false
   },
   "outputs": [
    {
     "data": {
      "text/latex": [
       "$$\\boldsymbol{\\gamma_{x}\\wedge \\gamma_{y}}$$"
      ],
      "text/plain": [
       "<sympy.galgebra.ga.MV at 0x7f4511d0cbd0>"
      ]
     },
     "execution_count": 2,
     "metadata": {},
     "output_type": "execute_result"
    }
   ],
   "source": [
    "metric = '1 0 0, 0 1 0, 0 0 1'\n",
    "gamma_x, gamma_y, gamma_z = MV.setup('gamma_x gamma_y gamma_z', metric)\n",
    "gamma_x ^ gamma_y"
   ]
  },
  {
   "cell_type": "code",
   "execution_count": 3,
   "metadata": {
    "collapsed": false
   },
   "outputs": [
    {
     "data": {
      "text/latex": [
       "$$\\frac{3}{2}\\boldsymbol{\\gamma_{x}\\wedge \\gamma_{y}}-\\boldsymbol{\\gamma_{x}\\wedge \\gamma_{z}}$$"
      ],
      "text/plain": [
       "<sympy.galgebra.ga.MV at 0x7f45296637d0>"
      ]
     },
     "execution_count": 3,
     "metadata": {},
     "output_type": "execute_result"
    }
   ],
   "source": [
    "3 * gamma_x * gamma_y / 2 + (gamma_z ^ gamma_x)"
   ]
  },
  {
   "cell_type": "code",
   "execution_count": 4,
   "metadata": {
    "collapsed": false
   },
   "outputs": [],
   "source": [
    "a, b, c, d, e = MV.setup('a b c d e')"
   ]
  },
  {
   "cell_type": "code",
   "execution_count": 5,
   "metadata": {
    "collapsed": false
   },
   "outputs": [
    {
     "data": {
      "text/latex": [
       "$$- \\left( b\\cdot e\\right) \\boldsymbol{a}+\\left( a\\cdot e\\right) \\boldsymbol{b}$$"
      ],
      "text/plain": [
       "<sympy.galgebra.ga.MV at 0x7f44ffba35d0>"
      ]
     },
     "execution_count": 5,
     "metadata": {},
     "output_type": "execute_result"
    }
   ],
   "source": [
    "e|(a^b)"
   ]
  },
  {
   "cell_type": "code",
   "execution_count": 6,
   "metadata": {
    "collapsed": false
   },
   "outputs": [
    {
     "data": {
      "text/latex": [
       "$$- \\left( a\\cdot c\\right) \\boldsymbol{b}+\\left( a\\cdot b\\right) \\boldsymbol{c}$$"
      ],
      "text/plain": [
       "<sympy.galgebra.ga.MV at 0x7f44ffb96d90>"
      ]
     },
     "execution_count": 6,
     "metadata": {},
     "output_type": "execute_result"
    }
   ],
   "source": [
    "a|b^c"
   ]
  },
  {
   "cell_type": "code",
   "execution_count": 7,
   "metadata": {
    "collapsed": false
   },
   "outputs": [
    {
     "data": {
      "text/latex": [
       "$$\\left( a\\cdot d\\right) \\boldsymbol{b\\wedge c}- \\left( a\\cdot c\\right) \\boldsymbol{b\\wedge d}+\\left( a\\cdot b\\right) \\boldsymbol{c\\wedge d}$$"
      ],
      "text/plain": [
       "<sympy.galgebra.ga.MV at 0x7f44ffb76450>"
      ]
     },
     "execution_count": 7,
     "metadata": {},
     "output_type": "execute_result"
    }
   ],
   "source": [
    "a|b^c^d"
   ]
  },
  {
   "cell_type": "code",
   "execution_count": 8,
   "metadata": {
    "collapsed": false
   },
   "outputs": [
    {
     "data": {
      "text/latex": [
       "$$- \\left( a\\cdot e\\right) \\boldsymbol{b\\wedge c\\wedge d}+\\left( a\\cdot d\\right) \\boldsymbol{b\\wedge c\\wedge e}- \\left( a\\cdot c\\right) \\boldsymbol{b\\wedge d\\wedge e}+\\left( a\\cdot b\\right) \\boldsymbol{c\\wedge d\\wedge e}$$"
      ],
      "text/plain": [
       "<sympy.galgebra.ga.MV at 0x7f44ffb3a890>"
      ]
     },
     "execution_count": 8,
     "metadata": {},
     "output_type": "execute_result"
    }
   ],
   "source": [
    "a|b^c^d^e"
   ]
  },
  {
   "cell_type": "code",
   "execution_count": 8,
   "metadata": {
    "collapsed": false
   },
   "outputs": [],
   "source": []
  }
 ],
 "metadata": {
  "kernelspec": {
   "display_name": "Python 3",
   "language": "python",
   "name": "python3"
  },
  "language_info": {
   "codemirror_mode": {
    "name": "ipython",
    "version": 3
   },
   "file_extension": ".py",
   "mimetype": "text/x-python",
   "name": "python",
   "nbconvert_exporter": "python",
   "pygments_lexer": "ipython3",
   "version": "3.4.3+"
  }
 },
 "nbformat": 4,
 "nbformat_minor": 0
}
