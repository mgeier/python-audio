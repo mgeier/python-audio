{
 "cells": [
  {
   "cell_type": "markdown",
   "metadata": {},
   "source": [
    "# Syntax Checkers\n",
    "\n",
    "[back to overview page](index.ipynb)\n",
    "\n",
    "There are several tools out there, this is just a random selection:"
   ]
  },
  {
   "cell_type": "markdown",
   "metadata": {},
   "source": [
    "## pylint\n",
    "\n",
    "Website: http://www.pylint.org/\n",
    "\n",
    "Docs: http://docs.pylint.org/\n",
    "\n",
    "Tutorial: http://docs.pylint.org/tutorial.html\n",
    "\n",
    "All message codes: http://pylint-messages.wikidot.com/all-codes\n",
    "\n",
    "Google coding style: http://google-styleguide.googlecode.com/svn/trunk/pyguide.html?showone=Lint#Lint\n",
    "\n",
    "To show how it works, let's check the file [bad_syntax.py](files/bad_syntax.py):"
   ]
  },
  {
   "cell_type": "code",
   "execution_count": 5,
   "metadata": {
    "collapsed": false
   },
   "outputs": [
    {
     "name": "stdout",
     "output_type": "stream",
     "text": [
      "No config file found, using default configuration\r\n",
      "************* Module bad_syntax\r\n",
      "W:  8, 0: Bad indentation. Found 3 spaces, expected 4 (bad-indentation)\r\n",
      "C:  8, 0: Unnecessary parens after 'print' keyword (superfluous-parens)\r\n",
      "C:  7, 0: Invalid argument name \"x\" (invalid-name)\r\n",
      "C:  7, 0: Missing function docstring (missing-docstring)\r\n",
      "W:  7,10: Unused argument 'x' (unused-argument)\r\n"
     ]
    }
   ],
   "source": [
    "!pylint --reports=no bad_syntax.py"
   ]
  },
  {
   "cell_type": "markdown",
   "metadata": {},
   "source": [
    "TODO: on Debian, enable Python3 support\n",
    "\n",
    "If a file named `pylintrc` is available in the current directory, it is used a configuration file.\n",
    "To create a default configuration file, use:\n",
    "\n",
    "```bash\n",
    "pylint --generate-rcfile > pylintrc\n",
    "```\n",
    "\n",
    "TODO: disabling selected messages"
   ]
  },
  {
   "cell_type": "markdown",
   "metadata": {},
   "source": [
    "## pep8\n",
    "\n",
    "http://pypi.python.org/pypi/pep8\n",
    "\n",
    "Checks for style conventions specified in [PEP 8](http://www.python.org/dev/peps/pep-0008/).\n",
    "\n",
    "`pep8` shows a few things that `pylint` doesn't (and the other way round).\n",
    "\n",
    "Again, let's look at the file [bad_syntax.py](files/bad_syntax.py):"
   ]
  },
  {
   "cell_type": "code",
   "execution_count": 2,
   "metadata": {
    "collapsed": false
   },
   "outputs": [
    {
     "name": "stdout",
     "output_type": "stream",
     "text": [
      "bad_syntax.py:7:1: E302 expected 2 blank lines, found 1\r\n",
      "def dummy(x):\r\n",
      "^\r\n",
      "    Separate top-level function and class definitions with two blank lines.\r\n",
      "\r\n",
      "    Method definitions inside a class are separated by a single blank line.\r\n",
      "\r\n",
      "    Extra blank lines may be used (sparingly) to separate groups of related\r\n",
      "    functions.  Blank lines may be omitted between a bunch of related\r\n",
      "    one-liners (e.g. a set of dummy implementations).\r\n",
      "\r\n",
      "    Use blank lines in functions, sparingly, to indicate logical sections.\r\n",
      "\r\n",
      "    Okay: def a():\\n    pass\\n\\n\\ndef b():\\n    pass\r\n",
      "    Okay: def a():\\n    pass\\n\\n\\n# Foo\\n# Bar\\n\\ndef b():\\n    pass\r\n",
      "\r\n",
      "    E301: class Foo:\\n    b = 0\\n    def bar():\\n        pass\r\n",
      "    E302: def a():\\n    pass\\n\\ndef b(n):\\n    pass\r\n",
      "    E303: def a():\\n    pass\\n\\n\\n\\ndef b(n):\\n    pass\r\n",
      "    E303: def a():\\n\\n\\n\\n    pass\r\n",
      "    E304: @decorator\\n\\ndef a():\\n    pass\r\n",
      "bad_syntax.py:8:4: E111 indentation is not a multiple of four\r\n",
      "   print('silly output')\r\n",
      "   ^\r\n",
      "    Use 4 spaces per indentation level.\r\n",
      "\r\n",
      "    For really old code that you don't want to mess up, you can continue to\r\n",
      "    use 8-space tabs.\r\n",
      "\r\n",
      "    Okay: a = 1\r\n",
      "    Okay: if a == 0:\\n    a = 1\r\n",
      "    E111:   a = 1\r\n",
      "\r\n",
      "    Okay: for item in items:\\n    pass\r\n",
      "    E112: for item in items:\\npass\r\n",
      "\r\n",
      "    Okay: a = 1\\nb = 2\r\n",
      "    E113: a = 1\\n    b = 2\r\n"
     ]
    }
   ],
   "source": [
    "!pep8 --repeat --show-source --show-pep8 bad_syntax.py"
   ]
  },
  {
   "cell_type": "markdown",
   "metadata": {},
   "source": [
    "TODO: disabling selected messages"
   ]
  },
  {
   "cell_type": "markdown",
   "metadata": {},
   "source": [
    "# Text Editor Support\n",
    "\n",
    "Many text editors have plugins to automatically do syntax checks in the background.\n",
    "\n",
    "Here a few links for Vim-users:\n",
    "\n",
    "https://github.com/klen/python-mode\n",
    "\n",
    "https://github.com/scrooloose/syntastic\n",
    "\n",
    "http://www.vim.org/scripts/script.php?script_id=891"
   ]
  },
  {
   "cell_type": "markdown",
   "metadata": {},
   "source": [
    "<p xmlns:dct=\"http://purl.org/dc/terms/\">\n",
    "  <a rel=\"license\"\n",
    "     href=\"http://creativecommons.org/publicdomain/zero/1.0/\">\n",
    "    <img src=\"http://i.creativecommons.org/p/zero/1.0/88x31.png\" style=\"border-style: none;\" alt=\"CC0\" />\n",
    "  </a>\n",
    "  <br />\n",
    "  To the extent possible under law,\n",
    "  <span rel=\"dct:publisher\" resource=\"[_:publisher]\">the person who associated CC0</span>\n",
    "  with this work has waived all copyright and related or neighboring\n",
    "  rights to this work.\n",
    "</p>"
   ]
  }
 ],
 "metadata": {
  "kernelspec": {
   "display_name": "Python 3",
   "language": "python",
   "name": "python3"
  },
  "language_info": {
   "codemirror_mode": {
    "name": "ipython",
    "version": 3
   },
   "file_extension": ".py",
   "mimetype": "text/x-python",
   "name": "python",
   "nbconvert_exporter": "python",
   "pygments_lexer": "ipython3",
   "version": "3.4.3+"
  }
 },
 "nbformat": 4,
 "nbformat_minor": 0
}
